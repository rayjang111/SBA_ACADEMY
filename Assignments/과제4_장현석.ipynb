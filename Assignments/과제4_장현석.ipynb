{
 "cells": [
  {
   "cell_type": "code",
   "execution_count": 2,
   "metadata": {},
   "outputs": [],
   "source": [
    "import numpy as np\n",
    "import pandas as pd\n",
    "import cv2\n",
    "import os\n",
    "os.chdir('C:/Users/edu/Desktop/HyunSuk/files')"
   ]
  },
  {
   "cell_type": "code",
   "execution_count": 15,
   "metadata": {},
   "outputs": [
    {
     "name": "stdout",
     "output_type": "stream",
     "text": [
      "두개 영역만을 추출하세요. 3 개의 영역을 추출하셨습니다\n",
      "r1= [290 158 159 286]\n",
      "r2= [129 221 156 253]\n"
     ]
    }
   ],
   "source": [
    "import numpy as np\n",
    "import pandas as pd\n",
    "import cv2\n",
    "import os\n",
    "os.chdir('C:/Users/edu/Desktop/HyunSuk/files')\n",
    "src=cv2.imread('./data/lena.jpg')\n",
    "while True:\n",
    "    r=cv2.selectROIs('src',src)\n",
    "    if len(r)==2:\n",
    "        r1,r2=r\n",
    "        break\n",
    "    print(\"두개 영역만을 추출하세요. %s 개의 영역을 추출하셨습니다\"%len(r))\n",
    "print('r1=',r1)\n",
    "print('r2=',r2)\n",
    "img1=src[r1[1]:r1[1]+r1[3],r1[0]:r1[0]+r1[2]]\n",
    "img2=src[r2[1]:r2[1]+r2[3],r2[0]:r2[0]+r2[2]]\n",
    "img1=cv2.cvtColor(img1,cv2.COLOR_BGR2GRAY)\n",
    "img1=cv2.merge([img1,img1,img1])\n",
    "_ ,img1 = cv2.threshold(img1, 150, 255, cv2.THRESH_BINARY)\n",
    "img2=cv2.bitwise_not(img2)\n",
    "src[r1[1]:r1[1]+r1[3],r1[0]:r1[0]+r1[2]]=img1\n",
    "src[r2[1]:r2[1]+r2[3],r2[0]:r2[0]+r2[2]]=img2\n",
    "cv2.imshow('result',src)\n",
    "cv2.waitKey(0)\n",
    "cv2.destroyAllWindows()"
   ]
  },
  {
   "cell_type": "code",
   "execution_count": null,
   "metadata": {},
   "outputs": [],
   "source": []
  }
 ],
 "metadata": {
  "kernelspec": {
   "display_name": "Python 3",
   "language": "python",
   "name": "python3"
  },
  "language_info": {
   "codemirror_mode": {
    "name": "ipython",
    "version": 3
   },
   "file_extension": ".py",
   "mimetype": "text/x-python",
   "name": "python",
   "nbconvert_exporter": "python",
   "pygments_lexer": "ipython3",
   "version": "3.7.2"
  }
 },
 "nbformat": 4,
 "nbformat_minor": 2
}
