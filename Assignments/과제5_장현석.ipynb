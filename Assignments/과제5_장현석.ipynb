{
 "cells": [
  {
   "cell_type": "code",
   "execution_count": 1,
   "metadata": {},
   "outputs": [],
   "source": [
    "import numpy as np\n",
    "import matplotlib.pyplot as plt\n",
    "import cv2\n"
   ]
  },
  {
   "cell_type": "code",
   "execution_count": null,
   "metadata": {},
   "outputs": [],
   "source": []
  },
  {
   "cell_type": "code",
   "execution_count": 20,
   "metadata": {},
   "outputs": [],
   "source": [
    "def onChange(pos):\n",
    "    global src\n",
    "    thres1=cv2.getTrackbarPos('Thres1','thres1')\n",
    "    thres2=cv2.getTrackbarPos('Thres2','thres2')\n",
    "    ret1,src1=cv2.threshold(src,thres1,255,cv2.THRESH_BINARY)\n",
    "    ret2,src2=cv2.threshold(src,thres2,255,cv2.THRESH_BINARY)\n",
    "    cv2.imshow('thres1',src1)\n",
    "    cv2.imshow('thres2',src2)\n",
    "    plt.bar(binX,hist)\n",
    "    plt.axvline(x=ret1, color='r', linestyle='--', linewidth=3)\n",
    "    plt.axvline(x=ret2, color='b', linestyle=':', linewidth=10)\n",
    "    plt.show()\n",
    "    \n",
    "    \n",
    "    \n",
    "    \n",
    "    "
   ]
  },
  {
   "cell_type": "code",
   "execution_count": 25,
   "metadata": {},
   "outputs": [],
   "source": [
    "import numpy as np\n",
    "import matplotlib.pyplot as plt\n",
    "import cv2\n",
    "def onChange(pos):\n",
    "    global src , src1, src2 ,src3\n",
    "    thres1=cv2.getTrackbarPos('Thres1','thres1')\n",
    "    thres2=cv2.getTrackbarPos('Thres2','thres2')\n",
    "    ret1,src1=cv2.threshold(src,thres1,255,cv2.THRESH_BINARY)\n",
    "    ret2,src2=cv2.threshold(src,thres2,255,cv2.THRESH_BINARY)\n",
    "    cv2.imshow('thres1',src1)\n",
    "    cv2.imshow('thres2',src2)\n",
    "    plt.figure()\n",
    "    plt.bar(binX,hist)\n",
    "    plt.axvline(x=ret1, color='r', linestyle='--', linewidth=3)\n",
    "    plt.axvline(x=ret2, color='b', linestyle=':', linewidth=10)\n",
    "    plt.show()\n",
    "src=cv2.imread('./data/baboon.jpg',0)\n",
    "src1=src.copy()\n",
    "src2=src.copy()\n",
    "src3=src.copy()\n",
    "hist=cv2.calcHist(images=[src3],channels=[0],mask=None,histSize=[256],ranges=[0,256])\n",
    "hist=hist.reshape(-1)\n",
    "binX=np.arange(256)\n",
    "cv2.imshow('thres1',src1)\n",
    "cv2.imshow('thres2',src2)\n",
    "cv2.createTrackbar('Thres1','thres1',0,255,onChange)\n",
    "cv2.createTrackbar('Thres2','thres2',0,255,onChange)\n",
    "cv2.setTrackbarPos('Thres1','thres1',125)\n",
    "cv2.setTrackbarPos('Thres2','thres2',0)\n",
    "cv2.waitKey()\n",
    "cv2.destroyAllWindows()"
   ]
  },
  {
   "cell_type": "code",
   "execution_count": 6,
   "metadata": {},
   "outputs": [],
   "source": [
    "cv2.destroyAllWindows()"
   ]
  },
  {
   "cell_type": "code",
   "execution_count": 18,
   "metadata": {},
   "outputs": [],
   "source": [
    "plt.show?"
   ]
  },
  {
   "cell_type": "code",
   "execution_count": null,
   "metadata": {},
   "outputs": [],
   "source": []
  }
 ],
 "metadata": {
  "kernelspec": {
   "display_name": "Python 3",
   "language": "python",
   "name": "python3"
  },
  "language_info": {
   "codemirror_mode": {
    "name": "ipython",
    "version": 3
   },
   "file_extension": ".py",
   "mimetype": "text/x-python",
   "name": "python",
   "nbconvert_exporter": "python",
   "pygments_lexer": "ipython3",
   "version": "3.7.2"
  }
 },
 "nbformat": 4,
 "nbformat_minor": 2
}
