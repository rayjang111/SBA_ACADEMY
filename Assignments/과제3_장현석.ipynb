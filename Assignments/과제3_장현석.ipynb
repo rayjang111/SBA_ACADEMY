{
 "cells": [
  {
   "cell_type": "code",
   "execution_count": 1,
   "metadata": {},
   "outputs": [
    {
     "ename": "SyntaxError",
     "evalue": "invalid syntax (<ipython-input-1-1202e1f1b862>, line 2)",
     "output_type": "error",
     "traceback": [
      "\u001b[1;36m  File \u001b[1;32m\"<ipython-input-1-1202e1f1b862>\"\u001b[1;36m, line \u001b[1;32m2\u001b[0m\n\u001b[1;33m    1.lena\u001b[0m\n\u001b[1;37m         ^\u001b[0m\n\u001b[1;31mSyntaxError\u001b[0m\u001b[1;31m:\u001b[0m invalid syntax\n"
     ]
    }
   ],
   "source": [
    "###512 512 3 모양을 갖는 컬러영상 img 생성\n",
    "1.lena\n",
    "2.apple\n",
    "3.banana\n",
    "4.baboon\n",
    "\n",
    "화면전환: 1에서 2 회전 2에서 3 픽셀 섞기, 3에서 4작아지고 커지기\n",
    "이벤트 처리 :스페이스 한번 누르면 영상재생을 잠시 정지, 다시 누르면 재생 진행"
   ]
  },
  {
   "cell_type": "code",
   "execution_count": 3,
   "metadata": {},
   "outputs": [],
   "source": [
    "import numpy as np\n",
    "import cv2\n",
    "import pandas as pd\n",
    "path='C:/Users/edu/Desktop/OpenCV_data/OpenCV_data/data/'"
   ]
  },
  {
   "cell_type": "code",
   "execution_count": 21,
   "metadata": {},
   "outputs": [],
   "source": [
    "lena=cv2.imread(path+'lena.jpg')\n",
    "apple=cv2.imread(path+'apple.jpg')\n",
    "banana=cv2.imread(path+'banana.jpg')\n",
    "baboon=cv2.imread(path+'baboon.jpg')"
   ]
  },
  {
   "cell_type": "code",
   "execution_count": null,
   "metadata": {},
   "outputs": [],
   "source": [
    "fourcc=cv2.VideoWriter_fourcc(*'XVID')\n",
    "frame_size=512,512\n",
    "out=cv2.VideoWriter('../videos/screen_transition.avi',fourcc,1,frame_size,isColor=True)"
   ]
  },
  {
   "cell_type": "code",
   "execution_count": 71,
   "metadata": {},
   "outputs": [],
   "source": [
    "import numpy as np\n",
    "import cv2\n",
    "import pandas as pd\n",
    "path='C:/Users/edu/Desktop/OpenCV_data/OpenCV_data/data/'\n",
    "lena=cv2.imread(path+'lena.jpg')\n",
    "apple=cv2.imread(path+'apple.jpg')\n",
    "banana=cv2.imread(path+'banana.jpg')\n",
    "baboon=cv2.imread(path+'baboon.jpg')\n",
    "rows, cols, channels = lena.shape\n",
    "fourcc=cv2.VideoWriter_fourcc(*'XVID')\n",
    "frame_size=512,512\n",
    "out=cv2.VideoWriter('../videos/screenTransition.avi',fourcc,30,frame_size,isColor=True)\n",
    "for i in np.array(list(range(360))[::-1]):\n",
    "    M1 = cv2.getRotationMatrix2D( (rows/2, cols/2),  i, 1 )\n",
    "    dst1 = cv2.warpAffine( lena, M1, (rows, cols))\n",
    "    cv2.imshow('video',  dst1)\n",
    "    out.write(dst1)\n",
    "    cv2.waitKey(10)\n",
    "for i in np.arange(0,1,0.01):\n",
    "    alpha=1-i\n",
    "    beta=i\n",
    "    weighted=cv2.addWeighted(apple,alpha,banana,beta,0)\n",
    "    cv2.imshow('video',weighted)\n",
    "    out.write(weighted)\n",
    "    cv2.waitKey(30)\n",
    "for i in np.arange(1,0.5,-0.01):\n",
    "    M1 = cv2.getRotationMatrix2D( (rows/2, cols/2),  0, i )\n",
    "    dst1 = cv2.warpAffine( banana, M1, (rows, cols))\n",
    "    cv2.imshow('video',  dst1)\n",
    "    cv2.waitKey(30)\n",
    "    out.write(dst1)\n",
    "for i in np.arange(0.5,1,0.01):\n",
    "    M1 = cv2.getRotationMatrix2D( (rows/2, cols/2),  0, i )\n",
    "    dst1 = cv2.warpAffine( banana, M1, (rows, cols))\n",
    "    cv2.imshow('video',  dst1)\n",
    "    cv2.waitKey(10)\n",
    "    out.write(dst1)\n",
    "for i in range(20):\n",
    "    cv2.imshow('video',baboon)\n",
    "    cv2.waitKey(100)\n",
    "    out.write(baboon)\n",
    "cv2.destroyAllWindows()\n",
    "out.release()\n",
    "    "
   ]
  },
  {
   "cell_type": "code",
   "execution_count": 64,
   "metadata": {},
   "outputs": [],
   "source": [
    "####1에서 2회전\n",
    "rows, cols, channels = lena.shape\n",
    "for i in np.array(list(range(360))[::-1]):\n",
    "    M1 = cv2.getRotationMatrix2D( (rows/2, cols/2),  i, 0.5 )\n",
    "    dst1 = cv2.warpAffine( lena, M1, (rows, cols))\n",
    "    cv2.imshow('video',  dst1)\n",
    "    cv2.waitKey(30)    \n",
    "cv2.destroyAllWindows()\n"
   ]
  },
  {
   "cell_type": "code",
   "execution_count": null,
   "metadata": {},
   "outputs": [],
   "source": [
    "#####2에서 3 픽셀 섞기"
   ]
  },
  {
   "cell_type": "code",
   "execution_count": 47,
   "metadata": {},
   "outputs": [],
   "source": [
    "for i in np.arange(0,1,0.01):\n",
    "    alpha=1-i\n",
    "    beta=i\n",
    "    weighted=cv2.addWeighted(apple,alpha,banana,beta,0)\n",
    "    cv2.imshow('video',weighted)\n",
    "    cv2.waitKey(30)\n",
    "cv2.destroyAllWindows()"
   ]
  },
  {
   "cell_type": "code",
   "execution_count": 53,
   "metadata": {},
   "outputs": [],
   "source": [
    "for i in np.arange(1,0.5,-0.01):\n",
    "    dst=cv2.resize(banana,dsize=(0,0),fx=i,fy=i)\n",
    "    cv2.imshow('video',dst)\n",
    "    cv2.waitKey(30)\n",
    "for i in np.arange(0.5,1,0.01):\n",
    "    dst=cv2.resize(banana,dsize=(0,0),fx=i,fy=i)\n",
    "    cv2.imshow('video',dst)\n",
    "    cv2.waitKey(30)\n",
    "cv2.destroyAllWindows()"
   ]
  },
  {
   "cell_type": "code",
   "execution_count": 54,
   "metadata": {},
   "outputs": [],
   "source": [
    "cv2.imshow('video',baboon)\n",
    "cv2.waitKey(1000)\n",
    "cv2.destroyAllWindows()"
   ]
  },
  {
   "cell_type": "code",
   "execution_count": 58,
   "metadata": {},
   "outputs": [
    {
     "data": {
      "text/plain": [
       "(512, 512, 3)"
      ]
     },
     "execution_count": 58,
     "metadata": {},
     "output_type": "execute_result"
    }
   ],
   "source": [
    "lena.shape"
   ]
  },
  {
   "cell_type": "code",
   "execution_count": 59,
   "metadata": {},
   "outputs": [
    {
     "data": {
      "text/plain": [
       "(512, 512, 3)"
      ]
     },
     "execution_count": 59,
     "metadata": {},
     "output_type": "execute_result"
    }
   ],
   "source": [
    "baboon.shape"
   ]
  },
  {
   "cell_type": "code",
   "execution_count": null,
   "metadata": {},
   "outputs": [],
   "source": []
  },
  {
   "cell_type": "code",
   "execution_count": null,
   "metadata": {},
   "outputs": [],
   "source": []
  },
  {
   "cell_type": "code",
   "execution_count": null,
   "metadata": {},
   "outputs": [],
   "source": []
  },
  {
   "cell_type": "code",
   "execution_count": null,
   "metadata": {},
   "outputs": [],
   "source": []
  }
 ],
 "metadata": {
  "kernelspec": {
   "display_name": "Python 3",
   "language": "python",
   "name": "python3"
  },
  "language_info": {
   "codemirror_mode": {
    "name": "ipython",
    "version": 3
   },
   "file_extension": ".py",
   "mimetype": "text/x-python",
   "name": "python",
   "nbconvert_exporter": "python",
   "pygments_lexer": "ipython3",
   "version": "3.7.2"
  }
 },
 "nbformat": 4,
 "nbformat_minor": 2
}
