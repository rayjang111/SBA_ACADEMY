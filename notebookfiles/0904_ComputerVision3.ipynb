{
 "cells": [
  {
   "cell_type": "markdown",
   "metadata": {},
   "source": [
    "영상속성"
   ]
  },
  {
   "cell_type": "code",
   "execution_count": 1,
   "metadata": {},
   "outputs": [],
   "source": [
    "import numpy as np\n",
    "import cv2 as cv\n",
    "import pandas as pd\n",
    "path='C:/Users/edu/Desktop/OpenCV_data/OpenCV_data/'"
   ]
  },
  {
   "cell_type": "code",
   "execution_count": 2,
   "metadata": {},
   "outputs": [],
   "source": [
    "img=cv.imread(path+'data/lena.jpg')"
   ]
  },
  {
   "cell_type": "code",
   "execution_count": 3,
   "metadata": {
    "scrolled": true
   },
   "outputs": [
    {
     "name": "stdout",
     "output_type": "stream",
     "text": [
      "3 (512, 512, 3) uint8\n"
     ]
    },
    {
     "data": {
      "text/plain": [
       "array([[[128, 138, 225],\n",
       "        [127, 137, 224],\n",
       "        [126, 136, 224],\n",
       "        ...,\n",
       "        [126, 145, 236],\n",
       "        [110, 129, 220],\n",
       "        [ 86, 104, 197]],\n",
       "\n",
       "       [[127, 137, 224],\n",
       "        [127, 137, 224],\n",
       "        [127, 137, 224],\n",
       "        ...,\n",
       "        [130, 150, 235],\n",
       "        [112, 132, 217],\n",
       "        [ 83, 102, 189]],\n",
       "\n",
       "       [[127, 137, 224],\n",
       "        [127, 137, 224],\n",
       "        [128, 138, 225],\n",
       "        ...,\n",
       "        [127, 148, 230],\n",
       "        [112, 133, 215],\n",
       "        [ 85, 105, 190]],\n",
       "\n",
       "       ...,\n",
       "\n",
       "       [[ 55,  21,  82],\n",
       "        [ 54,  20,  81],\n",
       "        [ 62,  28,  92],\n",
       "        ...,\n",
       "        [ 82,  71, 175],\n",
       "        [ 78,  68, 175],\n",
       "        [ 74,  65, 175]],\n",
       "\n",
       "       [[ 55,  18,  80],\n",
       "        [ 56,  19,  81],\n",
       "        [ 66,  32,  96],\n",
       "        ...,\n",
       "        [ 82,  69, 177],\n",
       "        [ 80,  71, 181],\n",
       "        [ 81,  72, 183]],\n",
       "\n",
       "       [[ 56,  19,  81],\n",
       "        [ 58,  21,  83],\n",
       "        [ 68,  34,  98],\n",
       "        ...,\n",
       "        [ 81,  68, 176],\n",
       "        [ 81,  72, 183],\n",
       "        [ 84,  74, 188]]], dtype=uint8)"
      ]
     },
     "execution_count": 3,
     "metadata": {},
     "output_type": "execute_result"
    }
   ],
   "source": [
    "print(img.ndim,img.shape,img.dtype)\n",
    "img"
   ]
  },
  {
   "cell_type": "code",
   "execution_count": 4,
   "metadata": {},
   "outputs": [],
   "source": [
    "img=np.int32(img)"
   ]
  },
  {
   "cell_type": "code",
   "execution_count": 5,
   "metadata": {},
   "outputs": [
    {
     "name": "stdout",
     "output_type": "stream",
     "text": [
      "int32\n"
     ]
    }
   ],
   "source": [
    "print(img.dtype)"
   ]
  },
  {
   "cell_type": "code",
   "execution_count": 6,
   "metadata": {},
   "outputs": [
    {
     "name": "stdout",
     "output_type": "stream",
     "text": [
      "uint8\n"
     ]
    }
   ],
   "source": [
    "img=np.uint8(img)\n",
    "print(img.dtype)"
   ]
  },
  {
   "cell_type": "code",
   "execution_count": 7,
   "metadata": {},
   "outputs": [
    {
     "data": {
      "text/plain": [
       "dtype('int32')"
      ]
     },
     "execution_count": 7,
     "metadata": {},
     "output_type": "execute_result"
    }
   ],
   "source": [
    "img=img.astype(np.int32)\n",
    "img.dtype"
   ]
  },
  {
   "cell_type": "code",
   "execution_count": 8,
   "metadata": {},
   "outputs": [
    {
     "data": {
      "text/plain": [
       "(6144, 12, 4)"
      ]
     },
     "execution_count": 8,
     "metadata": {},
     "output_type": "execute_result"
    }
   ],
   "source": [
    "img.strides"
   ]
  },
  {
   "cell_type": "code",
   "execution_count": 9,
   "metadata": {
    "scrolled": true
   },
   "outputs": [
    {
     "name": "stdout",
     "output_type": "stream",
     "text": [
      "(512, 512)\n",
      "(262144,)\n",
      "(1, 512, 512)\n"
     ]
    }
   ],
   "source": [
    "img=cv.imread(path+'data/lena.jpg',0)\n",
    "print(img.shape)\n",
    "img=img.flatten()\n",
    "print(img.shape)\n",
    "img=img.reshape(-1,512,512)\n",
    "print(img.shape)\n",
    "cv.imshow('img',img[0])\n",
    "cv.waitKey()\n",
    "cv.destroyAllWindows()\n",
    "###-1은 알아서해라"
   ]
  },
  {
   "cell_type": "code",
   "execution_count": 10,
   "metadata": {},
   "outputs": [
    {
     "name": "stdout",
     "output_type": "stream",
     "text": [
      "[[  0  98  98  95  99  95  97 102 104 106]\n",
      " [ 96  97  99  98  96  93  94  98 100 102]\n",
      " [ 96  96  99 100 101  98  99 102 104 105]\n",
      " [ 97  96  99  99 100  97  99 102 103 104]\n",
      " [ 95  95  98 100  99  96  98 101 102 103]\n",
      " [ 93  94  99 100 101  98 100 103 104 105]\n",
      " [ 96  97  99  98 100  98 100 103 103 104]\n",
      " [101 100  98  94 103 101 103 106 105 106]\n",
      " [102 108 101 100  99  99  98 106 102 104]\n",
      " [ 99 104  99  99  99 100 101 106 104 104]]\n"
     ]
    }
   ],
   "source": [
    "img=cv.imread(path+'data/lena.jpg',0)\n",
    "img[200,100]=0\n",
    "print(img[200:210,100:110])\n",
    "img[200:300,100:400]=0\n",
    "cv.imshow('img',img)\n",
    "cv.waitKey()\n",
    "cv.destroyAllWindows()"
   ]
  },
  {
   "cell_type": "code",
   "execution_count": 13,
   "metadata": {},
   "outputs": [
    {
     "name": "stdout",
     "output_type": "stream",
     "text": [
      "[[255   0   0]\n",
      " [116 115 207]\n",
      " [120 116 211]\n",
      " [107 103 198]\n",
      " [119 121 209]\n",
      " [116 118 206]\n",
      " [115 114 206]\n",
      " [112 111 203]\n",
      " [104 105 195]\n",
      " [110 112 200]]\n"
     ]
    }
   ],
   "source": [
    "img=cv.imread(path+'data/lena.jpg')\n",
    "img[100,200]=[255,0,0]\n",
    "print(img[100,200:210])\n",
    "img[100:400,200:300]=[255,0,0]\n",
    "cv.imshow('img',img)\n",
    "cv.waitKey()\n",
    "cv.destroyAllWindows()"
   ]
  },
  {
   "cell_type": "code",
   "execution_count": 19,
   "metadata": {},
   "outputs": [],
   "source": [
    "img=cv.imread(path+'data/lena.jpg')\n",
    "img[100:400,200:300]=[255,0,0]\n",
    "img[100:400,300:400]=[255,255,255]\n",
    "img[100:400,400:500]=[0,0,255]\n",
    "cv.imshow('img',img)\n",
    "cv.waitKey()\n",
    "cv.destroyAllWindows()"
   ]
  },
  {
   "cell_type": "code",
   "execution_count": 22,
   "metadata": {
    "scrolled": true
   },
   "outputs": [
    {
     "name": "stdout",
     "output_type": "stream",
     "text": [
      "start capture ...\n"
     ]
    },
    {
     "data": {
      "text/plain": [
       "<Figure size 640x480 with 1 Axes>"
      ]
     },
     "metadata": {},
     "output_type": "display_data"
    },
    {
     "name": "stdout",
     "output_type": "stream",
     "text": [
      "finish capture.\n"
     ]
    }
   ],
   "source": [
    "%run ../OpenCV_Python/0214.py"
   ]
  },
  {
   "cell_type": "code",
   "execution_count": 27,
   "metadata": {},
   "outputs": [],
   "source": [
    "import cv2\n",
    "import numpy as np\n",
    "src=cv2.imread(path+'data/lena.jpg',cv2.IMREAD_GRAYSCALE)\n",
    "dst=np.zeros_like(src)\n",
    "N=4\n",
    "height,width=src.shape\n",
    "mean_value=src[:int(height/N),:int(width/N)].mean()\n",
    "dst[:int(height/N),:int(width/N)]=mean_value\n",
    "src[:int(height/N),:int(width/N)]=mean_value\n",
    "cv.imshow('src',src)\n",
    "cv.waitKey()\n",
    "cv2.destroyAllWindows()"
   ]
  },
  {
   "cell_type": "code",
   "execution_count": 29,
   "metadata": {},
   "outputs": [],
   "source": [
    "# 0406.py\n",
    "import cv2\n",
    "import numpy as np\n",
    "\n",
    "src = cv2.imread(path+'data/lena.jpg', cv2.IMREAD_GRAYSCALE)\n",
    "dst = np.zeros(src.shape, dtype=src.dtype)\n",
    "\n",
    "N = 4 # 8, 32, 64\n",
    "height, width = src.shape    # 그레이스케일 영상\n",
    "##height, width,_ = src.shape # 컬러영상\n",
    "\n",
    "h = height // N\n",
    "w = width  // N\n",
    "for i in range(N):\n",
    "    for j in range(N):\n",
    "        y = i*h\n",
    "        x = j*w       \n",
    "        roi = src[y:y+h, x:x+w]\n",
    "        dst[y:y+h, x:x+w] = cv2.mean(roi)[0]   # 그레이스케일 영상\n",
    "##        dst[y:y+h, x:x+w] = cv2.mean(roi)[0:3] # 컬러영상\n",
    "        \n",
    "cv2.imshow('dst', dst)\n",
    "cv2.waitKey()\n",
    "cv2.destroyAllWindows()\n"
   ]
  },
  {
   "cell_type": "code",
   "execution_count": 2,
   "metadata": {},
   "outputs": [
    {
     "name": "stdout",
     "output_type": "stream",
     "text": [
      "roi = (17, 65, 224, 255)\n"
     ]
    }
   ],
   "source": [
    "# 0407.py\n",
    "import cv2\n",
    " \n",
    "src = cv2.imread( path+'data/lena.jpg',cv2.IMREAD_GRAYSCALE)\n",
    "roi = cv2.selectROI(src)\n",
    "print('roi =', roi)\n",
    "\n",
    "img = src[roi[1]:roi[1]+roi[3],\n",
    "            roi[0]:roi[0]+roi[2]]\n",
    "\n",
    "cv2.waitKey()\n",
    "cv2.destroyAllWindows()\n"
   ]
  },
  {
   "cell_type": "code",
   "execution_count": 8,
   "metadata": {},
   "outputs": [
    {
     "name": "stdout",
     "output_type": "stream",
     "text": [
      "rects = [[163 215 129 238]\n",
      " [ 91  12 279 375]\n",
      " [270 231 155 222]]\n"
     ]
    }
   ],
   "source": [
    "# 0408.py\n",
    "import cv2\n",
    " \n",
    "src = cv2.imread(path+'data/lena.jpg', cv2.IMREAD_GRAYSCALE)\n",
    "rects = cv2.selectROIs('src', src, True, False)\n",
    "print('rects =', rects)\n",
    "for r in rects:\n",
    "    cv2.rectangle(src, (r[0], r[1]), (r[0]+r[2], r[1]+r[3]), 255)    \n",
    "##    img = src[r[1]:r[1]+r[3], r[0]:r[0]+r[2]]\n",
    "##    cv2.imshow('Img', img)\n",
    "##    cv2.waitKey()\n",
    "cv2.imshow('src',src)\n",
    "cv2.waitKey()    \n",
    "cv2.destroyAllWindows()\n"
   ]
  },
  {
   "cell_type": "code",
   "execution_count": 39,
   "metadata": {},
   "outputs": [],
   "source": [
    "src = cv2.imread(path+'data/lena.jpg', cv2.IMREAD_GRAYSCALE)\n",
    "shape=src.shape[0],src.shape[1],3\n",
    "dst=np.zeros([512,512,3],dtype=np.uint8)\n",
    "dst[:,:,0]=src\n",
    "dst[100:400,200:300]=[255,255,255]\n",
    "cv2.imshow('이병욱',src)\n",
    "cv2.imshow('dst',dst)\n",
    "cv2.waitKey()\n",
    "cv2.destroyAllWindows()"
   ]
  },
  {
   "cell_type": "code",
   "execution_count": 42,
   "metadata": {},
   "outputs": [],
   "source": [
    "src = cv2.imread(path+'data/lena.jpg')\n",
    "dst=cv2.split(src)\n",
    "type(dst)\n",
    "type(dst[0])\n",
    "cv2.imshow('blue',dst[0])\n",
    "cv2.imshow('green',dst[1])\n",
    "cv2.imshow('red',dst[2])\n",
    "cv2.waitKey()\n",
    "cv2.destroyAllWindows()"
   ]
  },
  {
   "cell_type": "code",
   "execution_count": 43,
   "metadata": {},
   "outputs": [],
   "source": [
    "src = cv2.imread(path+'data/lena.jpg')\n",
    "b,g,r=cv2.split(src)\n",
    "img=cv2.merge([b,g,r])\n",
    "cv2.imshow('img',img)\n",
    "cv2.waitKey()\n",
    "cv2.destroyAllWindows()"
   ]
  },
  {
   "cell_type": "code",
   "execution_count": 88,
   "metadata": {},
   "outputs": [],
   "source": [
    "# 0413.py\n",
    "import cv2\n",
    "src = cv2.imread(path+'data/lena.jpg')\n",
    "\n",
    "gray   = cv2.cvtColor(src, cv2.COLOR_BGR2GRAY)\n",
    "yCrCv = cv2.cvtColor(src, cv2.COLOR_BGR2YCrCb)\n",
    "hsv    = cv2.cvtColor(src, cv2.COLOR_BGR2HSV)\n",
    "src2= cv2.cvtColor(hsv,cv2.COLOR_HSV2BGR)\n",
    "cv2.imshow('gray',  gray)\n",
    "cv2.imshow('yCrCv', yCrCv)\n",
    "cv2.imshow('hsv',   hsv)\n",
    "cv2.imshow('src',src2)\n",
    "cv2.waitKey()    \n",
    "cv2.destroyAllWindows()\n",
    "\n"
   ]
  },
  {
   "cell_type": "code",
   "execution_count": 58,
   "metadata": {},
   "outputs": [
    {
     "name": "stdout",
     "output_type": "stream",
     "text": [
      "(512, 512)\n",
      "(512, 512, 3)\n",
      "(512, 512, 3)\n"
     ]
    }
   ],
   "source": [
    "print(gray.shape)\n",
    "print(yCrCv.shape)\n",
    "print(hsv.shape)"
   ]
  },
  {
   "cell_type": "code",
   "execution_count": 104,
   "metadata": {},
   "outputs": [],
   "source": [
    "# 0414.py\n",
    "import cv2\n",
    "import numpy as np\n",
    "src = cv2.imread(path+'data/lena.jpg', cv2.IMREAD_GRAYSCALE)\n",
    "\n",
    "dst = cv2.resize(src, dsize=(320, 240))\n",
    "dst2 = cv2.resize(src, dsize=(0,0), fx=1.5, fy=1.2)\n",
    "cv2.imshow('src',img)\n",
    "cv2.imshow('dst', dst)\n",
    "cv2.imshow('dst2', dst2)\n",
    "cv2.waitKey()    \n",
    "cv2.destroyAllWindows()\n",
    "\n"
   ]
  },
  {
   "cell_type": "code",
   "execution_count": 101,
   "metadata": {},
   "outputs": [],
   "source": [
    "# 0416.py\n",
    "import cv2\n",
    "src = cv2.imread(path+'data/lena.jpg')\n",
    "\n",
    "rows, cols, channels = src.shape\n",
    "M1 = cv2.getRotationMatrix2D( (rows/2, cols/2),  45, 0.5 )\n",
    "M2 = cv2.getRotationMatrix2D( (rows/2, cols/2), -45, 1.0 )\n",
    "\n",
    "dst1 = cv2.warpAffine( src, M1, (rows, cols))\n",
    "dst2 = cv2.warpAffine( src, M2, (rows, cols))\n",
    "\n",
    "cv2.imshow('dst1',  dst1)\n",
    "cv2.imshow('dst2',  dst2)\n",
    "cv2.waitKey()    \n",
    "cv2.destroyAllWindows()\n"
   ]
  },
  {
   "cell_type": "code",
   "execution_count": 113,
   "metadata": {},
   "outputs": [],
   "source": [
    "# 0417.py\n",
    "import cv2\n",
    "import numpy as np\n",
    "\n",
    "src1 = cv2.imread(path+'data/lena.jpg', cv2.IMREAD_GRAYSCALE)\n",
    "src2 = np.zeros(shape=(512,512), dtype=np.uint8) + 100\n",
    "\n",
    "dst1 = src1 + src2\n",
    "dst2=cv2.add(src1, src2)\n",
    "#dst2 = cv2.add(src1, src2, dtype = cv2.CV_8U)\n",
    "\n",
    "cv2.imshow('dst1',  dst1)\n",
    "cv2.imshow('dst2',  dst2)\n",
    "cv2.waitKey()    \n",
    "cv2.destroyAllWindows()\n"
   ]
  },
  {
   "cell_type": "code",
   "execution_count": 122,
   "metadata": {},
   "outputs": [],
   "source": [
    "# 0418.py: OpenCV-Python Tutorials 참조\n",
    "import cv2\n",
    "import numpy as np\n",
    "\n",
    "src1 = cv2.imread(path+'data/lena.jpg')\n",
    "src2 = cv2.imread(path+'data/opencv_logo.png')\n",
    "cv2.imshow('src2',  src2)\n",
    "\n",
    "#1\n",
    "rows,cols,channels = src2.shape\n",
    "roi = src1[0:rows, 0:cols]\n",
    "\n",
    "#2\n",
    "gray = cv2.cvtColor(src2,cv2.COLOR_BGR2GRAY)\n",
    "ret, mask = cv2.threshold(gray, 160, 255, cv2.THRESH_BINARY)\n",
    "mask_inv = cv2.bitwise_not(mask)\n",
    "cv2.imshow('mask',  mask)\n",
    "cv2.imshow('mask_inv',  mask_inv)\n",
    "\n",
    "#3\n",
    "src1_bg = cv2.bitwise_and(roi, roi, mask = mask)\n",
    "cv2.imshow('src1_bg',  src1_bg)\n",
    "\n",
    "#4\n",
    "src2_fg = cv2.bitwise_and(src2, src2, mask = mask_inv)\n",
    "cv2.imshow('src2_fg',  src2_fg)\n",
    "\n",
    "#5\n",
    "##dst = cv2.add(src1_bg, src2_fg)\n",
    "dst = cv2.bitwise_or(src1_bg, src2_fg)\n",
    "cv2.imshow('dst',  dst)\n",
    "\n",
    "#6\n",
    "src1[0:rows, 0:cols] = dst\n",
    "\n",
    "cv2.imshow('result',src1)\n",
    "cv2.waitKey(0)\n",
    "cv2.destroyAllWindows()\n"
   ]
  },
  {
   "cell_type": "code",
   "execution_count": 118,
   "metadata": {},
   "outputs": [],
   "source": [
    "cv2.imshow('mask',mask)\n",
    "cv2.waitKey(0)\n",
    "cv2.destroyAllWindows()"
   ]
  }
 ],
 "metadata": {
  "kernelspec": {
   "display_name": "Python 3",
   "language": "python",
   "name": "python3"
  },
  "language_info": {
   "codemirror_mode": {
    "name": "ipython",
    "version": 3
   },
   "file_extension": ".py",
   "mimetype": "text/x-python",
   "name": "python",
   "nbconvert_exporter": "python",
   "pygments_lexer": "ipython3",
   "version": "3.7.2"
  }
 },
 "nbformat": 4,
 "nbformat_minor": 2
}
