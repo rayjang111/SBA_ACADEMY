{
 "cells": [
  {
   "cell_type": "code",
   "execution_count": null,
   "metadata": {},
   "outputs": [],
   "source": [
    "a=['동천동','명륜감자탕','낭풍','민지칼국수','황선생']\n",
    "def choice():\n",
    "    menu=a\n",
    "    selection=[]\n",
    "    while True:\n",
    "        print(\"\"\"\n",
    "        1.메뉴를 선택하세요\n",
    "        2.골라온 메뉴들\n",
    "        3.메뉴 초기화\n",
    "        4.끝내기\n",
    "        \"\"\")\n",
    "        n=int(input())\n",
    "        if n==1:\n",
    "            print(menu,\"중에 고르세용 번호로\")\n",
    "            choice=int(input())\n",
    "            selection.append(menu.pop(choice))\n",
    "        if n==2:\n",
    "            print(selection)\n",
    "        if n==3:\n",
    "            selection.clear()\n",
    "        if n==4:\n",
    "            break\n",
    "            \n",
    "choice()\n",
    "            "
   ]
  }
 ],
 "metadata": {
  "kernelspec": {
   "display_name": "Python 3",
   "language": "python",
   "name": "python3"
  },
  "language_info": {
   "codemirror_mode": {
    "name": "ipython",
    "version": 3
   },
   "file_extension": ".py",
   "mimetype": "text/x-python",
   "name": "python",
   "nbconvert_exporter": "python",
   "pygments_lexer": "ipython3",
   "version": "3.7.3"
  }
 },
 "nbformat": 4,
 "nbformat_minor": 2
}
