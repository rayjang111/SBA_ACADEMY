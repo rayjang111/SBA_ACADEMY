{
 "cells": [
  {
   "cell_type": "code",
   "execution_count": 11,
   "metadata": {},
   "outputs": [],
   "source": [
    "from numpy import *\n",
    "def loadDataSet():\n",
    "    dataMat=[]\n",
    "    labelMat=[]\n",
    "    fr=open('testSet.txt')\n",
    "    for line in fr.readlines():\n",
    "        lineArr=line.strip().split()\n",
    "        dataMat.append([1.0,float(lineArr[0]),float(lineArr[1])])\n",
    "        labelMat.append(int(lineArr[2]))\n",
    "    return dataMat,labelMat\n",
    "def sigmoid(inX):\n",
    "    return 1.0/(1+exp(-inX))\n",
    "def gradAscent(dataMatIn, classLabels):\n",
    "    dataMatrix=mat(dataMatIn)\n",
    "    labelMat=mat(classLabels).transpose()\n",
    "    m,n=shape(dataMatrix)\n",
    "    alpha=0.001\n",
    "    maxCycles=500\n",
    "    weights=ones((n,1))\n",
    "    for k in range(maxCycles):\n",
    "        h=sigmoid(dataMatrix*weights)\n",
    "        error=(labelMat-h)\n",
    "        weights=weights+alpha*dataMatrix.transpose()*error\n",
    "    return weights"
   ]
  },
  {
   "cell_type": "code",
   "execution_count": 12,
   "metadata": {},
   "outputs": [
    {
     "data": {
      "text/plain": [
       "matrix([[ 4.12414349],\n",
       "        [ 0.48007329],\n",
       "        [-0.6168482 ]])"
      ]
     },
     "execution_count": 12,
     "metadata": {},
     "output_type": "execute_result"
    }
   ],
   "source": [
    "dataMat,labelMat=loadDataSet()\n",
    "gradAscent(dataMat,labelMat)"
   ]
  },
  {
   "cell_type": "code",
   "execution_count": 1,
   "metadata": {},
   "outputs": [
    {
     "data": {
      "text/plain": [
       "[0, 1, 2, 3, 4, 5, 6, 7, 8, 9]"
      ]
     },
     "execution_count": 1,
     "metadata": {},
     "output_type": "execute_result"
    }
   ],
   "source": [
    "list(range(10))"
   ]
  },
  {
   "cell_type": "code",
   "execution_count": 3,
   "metadata": {},
   "outputs": [
    {
     "name": "stdout",
     "output_type": "stream",
     "text": [
      "['abc123 5', 'abc1 ', 'a1234', 'z']\n"
     ]
    }
   ],
   "source": [
    "\n",
    "def num_char_split(string):\n",
    "    save_point=0\n",
    "    string_list=[]\n",
    "    for i in range(1,len(string)):\n",
    "        if '0'<=string[i-1]<='9':\n",
    "            while string[i]==' ':\n",
    "                i=i+1\n",
    "                if i==len(string)-1:\n",
    "                    break\n",
    "            if 'a'<=string[i]<='z' or 'A'<=string[i]<='Z':\n",
    "                string_list.append(string[save_point:i])\n",
    "                save_point=i\n",
    "    string_list.append(string[save_point:])\n",
    "    print(string_list)\n",
    "string='abc123 5abc1 a1234z'\n",
    "num_char_split(string)"
   ]
  },
  {
   "cell_type": "code",
   "execution_count": 6,
   "metadata": {},
   "outputs": [
    {
     "name": "stdout",
     "output_type": "stream",
     "text": [
      "['123', 'asd a 12 ', 'sd12 3  ', 'a   ']\n"
     ]
    }
   ],
   "source": [
    "num_char_split(string)"
   ]
  },
  {
   "cell_type": "code",
   "execution_count": null,
   "metadata": {},
   "outputs": [],
   "source": []
  },
  {
   "cell_type": "code",
   "execution_count": null,
   "metadata": {},
   "outputs": [],
   "source": []
  },
  {
   "cell_type": "code",
   "execution_count": null,
   "metadata": {},
   "outputs": [],
   "source": []
  },
  {
   "cell_type": "code",
   "execution_count": null,
   "metadata": {},
   "outputs": [],
   "source": []
  }
 ],
 "metadata": {
  "kernelspec": {
   "display_name": "Tensorflow",
   "language": "python",
   "name": "tensorflow"
  },
  "language_info": {
   "codemirror_mode": {
    "name": "ipython",
    "version": 3
   },
   "file_extension": ".py",
   "mimetype": "text/x-python",
   "name": "python",
   "nbconvert_exporter": "python",
   "pygments_lexer": "ipython3",
   "version": "3.7.2"
  }
 },
 "nbformat": 4,
 "nbformat_minor": 2
}
