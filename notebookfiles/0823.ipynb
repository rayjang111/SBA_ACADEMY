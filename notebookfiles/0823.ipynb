{
 "cells": [
  {
   "cell_type": "code",
   "execution_count": 7,
   "metadata": {},
   "outputs": [
    {
     "data": {
      "text/plain": [
       "dict"
      ]
     },
     "execution_count": 7,
     "metadata": {},
     "output_type": "execute_result"
    }
   ],
   "source": [
    "import json\n",
    "python_dict = { \n",
    "    \"이름\": \"홍길동\", \n",
    "    \"나이\": 25, \n",
    "    \"거주지\": \"서울\", \n",
    "    \"신체정보\": { \n",
    "        \"키\": 175.4, \n",
    "        \"몸무게\": 71.2 \n",
    "    }, \n",
    "    \"취미\": [ \n",
    "        \"등산\", \n",
    "        \"자전거타기\", \n",
    "        \"독서\" \n",
    "    ] \n",
    " } \n",
    "type(python_dict) \n"
   ]
  },
  {
   "cell_type": "code",
   "execution_count": 10,
   "metadata": {},
   "outputs": [
    {
     "data": {
      "text/plain": [
       "'{\"\\\\uc774\\\\ub984\": \"\\\\ud64d\\\\uae38\\\\ub3d9\", \"\\\\ub098\\\\uc774\": 25, \"\\\\uac70\\\\uc8fc\\\\uc9c0\": \"\\\\uc11c\\\\uc6b8\", \"\\\\uc2e0\\\\uccb4\\\\uc815\\\\ubcf4\": {\"\\\\ud0a4\": 175.4, \"\\\\ubab8\\\\ubb34\\\\uac8c\": 71.2}, \"\\\\ucde8\\\\ubbf8\": [\"\\\\ub4f1\\\\uc0b0\", \"\\\\uc790\\\\uc804\\\\uac70\\\\ud0c0\\\\uae30\", \"\\\\ub3c5\\\\uc11c\"]}'"
      ]
     },
     "execution_count": 10,
     "metadata": {},
     "output_type": "execute_result"
    }
   ],
   "source": [
    "json_data = json.dumps(python_dict) \n",
    "type(json_data) \n",
    "json_data"
   ]
  },
  {
   "cell_type": "code",
   "execution_count": 13,
   "metadata": {
    "scrolled": true
   },
   "outputs": [
    {
     "data": {
      "text/plain": [
       "{'이름': '홍길동',\n",
       " '나이': 25,\n",
       " '거주지': '서울',\n",
       " '신체정보': {'키': 175.4, '몸무게': 71.2},\n",
       " '취미': ['등산', '자전거타기', '독서']}"
      ]
     },
     "execution_count": 13,
     "metadata": {},
     "output_type": "execute_result"
    }
   ],
   "source": [
    "json_dict = json.loads(json_data) \n",
    "type(json_dict) \n",
    "json_dict"
   ]
  },
  {
   "cell_type": "code",
   "execution_count": null,
   "metadata": {},
   "outputs": [],
   "source": [
    "#############"
   ]
  },
  {
   "cell_type": "code",
   "execution_count": 14,
   "metadata": {},
   "outputs": [],
   "source": [
    "import xmltodict"
   ]
  },
  {
   "cell_type": "code",
   "execution_count": 16,
   "metadata": {
    "scrolled": true
   },
   "outputs": [
    {
     "name": "stdout",
     "output_type": "stream",
     "text": [
      "<?xml version=\"1.0\" encoding=\"UTF-8\" ?> \n",
      "    <사용자정보> \n",
      "        <이름>홍길동</이름> \n",
      "        <나이>25</나이> \n",
      "        <거주지>서울</거주지> \n",
      "    <신체정보> \n",
      "            <키 unit=\"cm\">175.4</키> \n",
      "            <몸무게 unit=\"kg\">71.2</몸무게> \n",
      "        </신체정보> \n",
      "        <취미>등산</취미> \n",
      "        <취미>자전거타기</취미> \n",
      "        <취미>독서</취미> \n",
      "    </사용자정보>  \n",
      "    \n"
     ]
    }
   ],
   "source": [
    "xml_data = \"\"\"<?xml version=\"1.0\" encoding=\"UTF-8\" ?> \n",
    "    <사용자정보> \n",
    "        <이름>홍길동</이름> \n",
    "        <나이>25</나이> \n",
    "        <거주지>서울</거주지> \n",
    "    <신체정보> \n",
    "            <키 unit=\"cm\">175.4</키> \n",
    "            <몸무게 unit=\"kg\">71.2</몸무게> \n",
    "        </신체정보> \n",
    "        <취미>등산</취미> \n",
    "        <취미>자전거타기</취미> \n",
    "        <취미>독서</취미> \n",
    "    </사용자정보>  \n",
    "    \"\"\"\n",
    "print(xml_data) \n"
   ]
  },
  {
   "cell_type": "code",
   "execution_count": 18,
   "metadata": {},
   "outputs": [
    {
     "data": {
      "text/plain": [
       "OrderedDict([('사용자정보',\n",
       "              OrderedDict([('이름', '홍길동'),\n",
       "                           ('나이', '25'),\n",
       "                           ('거주지', '서울'),\n",
       "                           ('신체정보',\n",
       "                            OrderedDict([('키',\n",
       "                                          OrderedDict([('@unit', 'cm'),\n",
       "                                                       ('#text', '175.4')])),\n",
       "                                         ('몸무게',\n",
       "                                          OrderedDict([('@unit', 'kg'),\n",
       "                                                       ('#text', '71.2')]))])),\n",
       "                           ('취미', ['등산', '자전거타기', '독서'])]))])"
      ]
     },
     "execution_count": 18,
     "metadata": {},
     "output_type": "execute_result"
    }
   ],
   "source": [
    "dict_data = xmltodict.parse(xml_data, xml_attribs=True) \n",
    "dict_data\n"
   ]
  },
  {
   "cell_type": "code",
   "execution_count": 22,
   "metadata": {},
   "outputs": [],
   "source": [
    "import requests\n",
    "byungooks_pick=['전짬','']\n",
    "\n",
    "\n"
   ]
  },
  {
   "cell_type": "code",
   "execution_count": 131,
   "metadata": {},
   "outputs": [],
   "source": [
    "import random\n",
    "food=['동천동','명감','낭풍','황선생','제순','틈새','동학','전짬']\n",
    "def lunch():\n",
    "    selection=food\n",
    "    random.shuffle(selection)\n",
    "    return selection.pop()"
   ]
  },
  {
   "cell_type": "code",
   "execution_count": 134,
   "metadata": {},
   "outputs": [
    {
     "data": {
      "text/plain": [
       "'제순'"
      ]
     },
     "execution_count": 134,
     "metadata": {},
     "output_type": "execute_result"
    }
   ],
   "source": [
    "lunch()"
   ]
  },
  {
   "cell_type": "code",
   "execution_count": 136,
   "metadata": {},
   "outputs": [
    {
     "data": {
      "text/plain": [
       "True"
      ]
     },
     "execution_count": 136,
     "metadata": {},
     "output_type": "execute_result"
    }
   ],
   "source": [
    "'sd' in 'asdf'"
   ]
  },
  {
   "cell_type": "code",
   "execution_count": null,
   "metadata": {},
   "outputs": [],
   "source": []
  },
  {
   "cell_type": "code",
   "execution_count": null,
   "metadata": {},
   "outputs": [],
   "source": []
  },
  {
   "cell_type": "code",
   "execution_count": null,
   "metadata": {},
   "outputs": [],
   "source": []
  },
  {
   "cell_type": "code",
   "execution_count": null,
   "metadata": {},
   "outputs": [],
   "source": []
  },
  {
   "cell_type": "code",
   "execution_count": null,
   "metadata": {},
   "outputs": [],
   "source": []
  }
 ],
 "metadata": {
  "kernelspec": {
   "display_name": "Python 3",
   "language": "python",
   "name": "python3"
  },
  "language_info": {
   "codemirror_mode": {
    "name": "ipython",
    "version": 3
   },
   "file_extension": ".py",
   "mimetype": "text/x-python",
   "name": "python",
   "nbconvert_exporter": "python",
   "pygments_lexer": "ipython3",
   "version": "3.7.3"
  }
 },
 "nbformat": 4,
 "nbformat_minor": 2
}
