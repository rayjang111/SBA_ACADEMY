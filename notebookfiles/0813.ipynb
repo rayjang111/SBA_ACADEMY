{
 "cells": [
  {
   "cell_type": "markdown",
   "metadata": {},
   "source": [
    "### 함수"
   ]
  },
  {
   "cell_type": "code",
   "execution_count": 6,
   "metadata": {},
   "outputs": [
    {
     "name": "stdout",
     "output_type": "stream",
     "text": [
      "30 -10\n"
     ]
    }
   ],
   "source": [
    "def add_sub(a,b):\n",
    "    return a+b,a-b\n",
    "x,y=add_sub(10,20) ###unpacking\n",
    "print(x,y)"
   ]
  },
  {
   "cell_type": "code",
   "execution_count": 31,
   "metadata": {},
   "outputs": [
    {
     "name": "stdout",
     "output_type": "stream",
     "text": [
      "1 2 3 4 5 10 "
     ]
    }
   ],
   "source": [
    " def print_numbers(*args):\n",
    "        for arg in args:\n",
    "            print (arg,end=\" \")\n",
    "print_numbers(1,2,3,4,5)\n",
    "x=[10]\n",
    "print_numbers(*x) ########## *이 unpacking 역할을 한다"
   ]
  },
  {
   "cell_type": "code",
   "execution_count": 36,
   "metadata": {},
   "outputs": [
    {
     "name": "stdout",
     "output_type": "stream",
     "text": [
      "name :  홍길동\n",
      "age :  30\n",
      "address :  서울시 용산구 이촌동\n"
     ]
    }
   ],
   "source": [
    "def personal_info(**kwargs):\n",
    "    for key,value in kwargs.items():\n",
    "        print (key,\": \",value)\n",
    "x={'name':'홍길동','age':30,'address':'서울시 용산구 이촌동'}\n",
    "personal_info(**x) ###여기서도 **이 unpacking 역할을 한다"
   ]
  },
  {
   "cell_type": "code",
   "execution_count": 50,
   "metadata": {},
   "outputs": [
    {
     "name": "stdout",
     "output_type": "stream",
     "text": [
      "Hello, world! 5\n"
     ]
    }
   ],
   "source": [
    "def hello(count):\n",
    "    if count == 0:    # 종료 조건을 만듦. count가 0이면 다시 hello 함수를 호출하지 않고 끝냄\n",
    "        return\n",
    "    else:\n",
    "        print('Hello, world!', count)\n",
    "    \n",
    "        count -= 1      # count를 1 감소시킨 뒤\n",
    "        hello(count)    # 다시 hello에 넣음\n",
    " \n",
    "hello(5)    # hello 함수 호출\n"
   ]
  },
  {
   "cell_type": "code",
   "execution_count": 56,
   "metadata": {},
   "outputs": [
    {
     "name": "stdout",
     "output_type": "stream",
     "text": [
      "120\n"
     ]
    }
   ],
   "source": [
    "factor=1\n",
    "def factorial(n):\n",
    "    global factor\n",
    "    if n==1:\n",
    "        print(factor)\n",
    "    else:\n",
    "        factor*=n\n",
    "        n=n-1\n",
    "        factorial(n)\n",
    "factorial(5)"
   ]
  },
  {
   "cell_type": "code",
   "execution_count": 58,
   "metadata": {},
   "outputs": [
    {
     "name": "stdout",
     "output_type": "stream",
     "text": [
      "120\n"
     ]
    }
   ],
   "source": [
    "def factorial(n):\n",
    "    if n==1:\n",
    "        return 1\n",
    "    return n* factorial(n-1)\n",
    "print(factorial(5))"
   ]
  },
  {
   "cell_type": "code",
   "execution_count": 78,
   "metadata": {},
   "outputs": [
    {
     "data": {
      "text/plain": [
       "[1, 1, 2, 3, 5, 8, 13, 21, 34, 55]"
      ]
     },
     "execution_count": 78,
     "metadata": {},
     "output_type": "execute_result"
    }
   ],
   "source": [
    "def pivonacci(n):\n",
    "    if n==1:\n",
    "        return 1\n",
    "    if n==2:\n",
    "        return 1\n",
    "    return pivonacci(n-1)+pivonacci(n-2)\n",
    "def pivonacci_array(n):\n",
    "    arr=[]\n",
    "    for i in range(1,n+1):\n",
    "        arr.append(pivonacci(i))\n",
    "    return arr\n",
    "pivonacci_array(10)\n",
    "        "
   ]
  },
  {
   "cell_type": "code",
   "execution_count": 85,
   "metadata": {},
   "outputs": [
    {
     "data": {
      "text/plain": [
       "11"
      ]
     },
     "execution_count": 85,
     "metadata": {},
     "output_type": "execute_result"
    }
   ],
   "source": [
    "plus_ten= lambda x: x+10\n",
    "plus_ten(1)"
   ]
  },
  {
   "cell_type": "code",
   "execution_count": 87,
   "metadata": {},
   "outputs": [
    {
     "data": {
      "text/plain": [
       "[11, 12, 13]"
      ]
     },
     "execution_count": 87,
     "metadata": {},
     "output_type": "execute_result"
    }
   ],
   "source": [
    "list(map(lambda x:x+10,[1,2,3]))"
   ]
  },
  {
   "cell_type": "code",
   "execution_count": 90,
   "metadata": {
    "scrolled": true
   },
   "outputs": [
    {
     "data": {
      "text/plain": [
       "['1', 2.0, 13, 14, 15, 16, 17, 18, 19, 20]"
      ]
     },
     "execution_count": 90,
     "metadata": {},
     "output_type": "execute_result"
    }
   ],
   "source": [
    "###lambda 표현식에 조건문을 쓸때는 else를 꼭 써주어야한다. \n",
    "a=[1,2,3,4,5,6,7,8,9,10]\n",
    "list(map(lambda x: str(x) if x==1 else float (x) if x==2 else x+10,a))"
   ]
  },
  {
   "cell_type": "code",
   "execution_count": 96,
   "metadata": {},
   "outputs": [
    {
     "data": {
      "text/plain": [
       "[8, 7, 9]"
      ]
     },
     "execution_count": 96,
     "metadata": {},
     "output_type": "execute_result"
    }
   ],
   "source": [
    "a=[8,3,2,10,15,7,1,9,0,11]\n",
    "list(filter(lambda x: x>5 and x<10,a))"
   ]
  },
  {
   "cell_type": "code",
   "execution_count": 113,
   "metadata": {},
   "outputs": [
    {
     "name": "stdout",
     "output_type": "stream",
     "text": [
      "20\n",
      "20\n"
     ]
    }
   ],
   "source": [
    "x=10\n",
    "def foo():\n",
    "    global x\n",
    "    x=20\n",
    "    print(x)\n",
    "foo()\n",
    "print(x)"
   ]
  },
  {
   "cell_type": "code",
   "execution_count": 114,
   "metadata": {},
   "outputs": [
    {
     "name": "stdout",
     "output_type": "stream",
     "text": [
      "Hellow, world!\n"
     ]
    }
   ],
   "source": [
    "def print_hello():\n",
    "    hello='Hellow, world!'\n",
    "    def print_message():\n",
    "        print(hello)\n",
    "    print_message()\n",
    "print_hello()"
   ]
  },
  {
   "cell_type": "code",
   "execution_count": 129,
   "metadata": {},
   "outputs": [
    {
     "name": "stdout",
     "output_type": "stream",
     "text": [
      "50\n",
      "400\n"
     ]
    }
   ],
   "source": [
    "def A():\n",
    "    x=10\n",
    "    y=100\n",
    "    def B():\n",
    "        x=20\n",
    "        def C():\n",
    "            nonlocal x ###가장 가까운 x 가져오기\n",
    "            nonlocal y \n",
    "            x=x+30\n",
    "            y=y+300\n",
    "            print(x)\n",
    "            print(y)\n",
    "        C()\n",
    "    B()\n",
    "A()"
   ]
  },
  {
   "cell_type": "code",
   "execution_count": 134,
   "metadata": {},
   "outputs": [
    {
     "data": {
      "text/plain": [
       "11"
      ]
     },
     "execution_count": 134,
     "metadata": {},
     "output_type": "execute_result"
    }
   ],
   "source": [
    "def calc():\n",
    "    a=3\n",
    "    b=5\n",
    "    def mul_add(x):\n",
    "        return a*x+b\n",
    "    return mul_add\n",
    "a=calc() ###할당을 함으로써 return 값으로 함수가 생기고\n",
    "a(2) ##############클로저 짱신기하네 "
   ]
  },
  {
   "cell_type": "code",
   "execution_count": 151,
   "metadata": {},
   "outputs": [
    {
     "name": "stdout",
     "output_type": "stream",
     "text": [
      "8\n",
      "19\n",
      "33\n"
     ]
    }
   ],
   "source": [
    "def calc():\n",
    "    a=3\n",
    "    b=5\n",
    "    total=0\n",
    "    def mul_add(x):\n",
    "        nonlocal total\n",
    "        total=total+a*x+b\n",
    "        print(total)\n",
    "    return mul_add\n",
    "c=calc()\n",
    "c(1)\n",
    "c(2)\n",
    "c(3)"
   ]
  },
  {
   "cell_type": "code",
   "execution_count": 157,
   "metadata": {},
   "outputs": [
    {
     "name": "stdout",
     "output_type": "stream",
     "text": [
      "3\n"
     ]
    }
   ],
   "source": [
    "class Person:\n",
    "    def __init__(self,x):\n",
    "        self.x=x\n",
    "    def myprint(self):\n",
    "        print (self.x)\n",
    "a=Person(3)\n",
    "a.myprint()\n"
   ]
  },
  {
   "cell_type": "code",
   "execution_count": null,
   "metadata": {},
   "outputs": [],
   "source": [
    "###비공개 속성이용하기\n",
    "class Person:\n",
    "    def __init__(self,name,age,address,wallet):\n",
    "        self.name=name\n",
    "        self.age=age\n",
    "        self.address=address\n",
    "        self.__wallet=wallet\n",
    "    def pay(self,amount):\n",
    "        self.__wallet-=amount\n",
    "        print('이제 {0}원 남았네요.'.format(self.__wallet))\n",
    "maria"
   ]
  },
  {
   "cell_type": "code",
   "execution_count": null,
   "metadata": {},
   "outputs": [],
   "source": [
    "print('dasdasd%s')"
   ]
  },
  {
   "cell_type": "code",
   "execution_count": 43,
   "metadata": {
    "scrolled": true
   },
   "outputs": [
    {
     "name": "stdout",
     "output_type": "stream",
     "text": [
      "2명 생성되었습니다\n"
     ]
    }
   ],
   "source": [
    "class Person:\n",
    "    count=0 \n",
    "    def __init__(self):\n",
    "        Person.count+=1\n",
    "    @classmethod\n",
    "    def print_count(self):\n",
    "        print('{0}명 생성되었습니다'.format(cls.count))\n",
    "james=Person()\n",
    "maria=Person()\n",
    "Person.print_count()"
   ]
  },
  {
   "cell_type": "code",
   "execution_count": 44,
   "metadata": {},
   "outputs": [
    {
     "name": "stdout",
     "output_type": "stream",
     "text": [
      "2명 생성되었습니다\n"
     ]
    }
   ],
   "source": [
    "Person.print_count(james)"
   ]
  },
  {
   "cell_type": "code",
   "execution_count": 52,
   "metadata": {},
   "outputs": [],
   "source": [
    "class Calc:\n",
    "    @staticmethod\n",
    "    def add(a, b):\n",
    "        print(a + b)\n",
    " \n",
    "    @staticmethod\n",
    "    def mul(a, b):\n",
    "        print(a * b)"
   ]
  },
  {
   "cell_type": "code",
   "execution_count": 53,
   "metadata": {},
   "outputs": [
    {
     "name": "stdout",
     "output_type": "stream",
     "text": [
      "7\n"
     ]
    }
   ],
   "source": [
    "a=Calc()\n",
    "a.add(3,4)"
   ]
  },
  {
   "cell_type": "code",
   "execution_count": null,
   "metadata": {},
   "outputs": [],
   "source": []
  },
  {
   "cell_type": "code",
   "execution_count": null,
   "metadata": {},
   "outputs": [],
   "source": []
  },
  {
   "cell_type": "markdown",
   "metadata": {},
   "source": [
    "## 코딩도장"
   ]
  },
  {
   "cell_type": "markdown",
   "metadata": {},
   "source": [
    "### 넥슨 입사문제"
   ]
  },
  {
   "cell_type": "markdown",
   "metadata": {},
   "source": [
    "어떤 자연수 n이 있을 때, d(n)을 n의 각 자릿수 숫자들과 n 자신을 더한 숫자라고 정의하자.\n",
    "\n",
    "예를 들어\n",
    "\n",
    "d(91) = 9 + 1 + 91 = 101\n",
    "\n",
    "이 때, n을 d(n)의 제네레이터(generator)라고 한다. 위의 예에서 91은 101의 제네레이터이다.\n",
    "\n",
    "어떤 숫자들은 하나 이상의 제네레이터를 가지고 있는데, 101의 제네레이터는 91 뿐 아니라 100도 있다. 그런데 반대로, 제네레이터가 없는 숫자들도 있으며, 이런 숫자를 인도의 수학자 Kaprekar가 셀프 넘버(self-number)라 이름 붙였다. 예를 들어 1,3,5,7,9,20,31 은 셀프 넘버 들이다.\n",
    "\n",
    "1 이상이고 5000 보다 작은 모든 셀프 넘버들의 합을 구하라"
   ]
  },
  {
   "cell_type": "code",
   "execution_count": 23,
   "metadata": {},
   "outputs": [],
   "source": [
    "def generator(n):\n",
    "    n=str(n)\n",
    "    sums=0\n",
    "    for i in n:\n",
    "        sums+=int(i)\n",
    "    sums+=int(n)\n",
    "    return sums\n",
    "def self_number(n):\n",
    "    gens=[]\n",
    "    self_number=[]\n",
    "    for i in range(1,n+1):\n",
    "        gens.append(generator(i))\n",
    "    for j in range(1,n+1):\n",
    "        if j not in gens:\n",
    "            self_number.append(j)\n",
    "    \n",
    "    return sum(self_number)\n",
    "        "
   ]
  },
  {
   "cell_type": "code",
   "execution_count": 24,
   "metadata": {},
   "outputs": [
    {
     "data": {
      "text/plain": [
       "1227365"
      ]
     },
     "execution_count": 24,
     "metadata": {},
     "output_type": "execute_result"
    }
   ],
   "source": [
    "self_number(5000)"
   ]
  },
  {
   "cell_type": "markdown",
   "metadata": {},
   "source": [
    "#### Spiral Array"
   ]
  },
  {
   "cell_type": "markdown",
   "metadata": {},
   "source": [
    "문제는 다음과 같다:\n",
    "\"\"\"\n",
    "6 6\n",
    "\n",
    "  0   1   2   3   4   5\n",
    " 19  20  21  22  23   6\n",
    " 18  31  32  33  24   7\n",
    " 17  30  35  34  25   8\n",
    " 16  29  28  27  26   9\n",
    " 15  14  13  12  11  10\n",
    " \"\"\"\n",
    "위처럼 6 6이라는 입력을 주면 6 X 6 매트릭스에 나선형 회전을 한 값을 출력해야 한다."
   ]
  },
  {
   "cell_type": "code",
   "execution_count": 24,
   "metadata": {},
   "outputs": [],
   "source": [
    "import numpy as np"
   ]
  },
  {
   "cell_type": "code",
   "execution_count": 25,
   "metadata": {},
   "outputs": [],
   "source": [
    "def spiral_array():\n",
    "    ROW,COL=list(map(int,input().split()))\n",
    "    MATRIX=[[-1 for i in range(COL)]for j in range(ROW)]\n",
    "    x=0\n",
    "    y=0\n",
    "    dx=1\n",
    "    dy=0\n",
    "    count=0\n",
    "    while count<=ROW*COL-2:\n",
    "        if dx==1 and dy==0:\n",
    "            while x<COL-1 and MATRIX[y+dy][x+dx]==-1 :\n",
    "                MATRIX[y][x]=count\n",
    "                count=count+1\n",
    "                x+=dx\n",
    "                y+=dy\n",
    "            \n",
    "            dx=0\n",
    "            dy=1\n",
    "            \n",
    "        if dx==0 and dy==1:\n",
    "             while y<ROW-1 and MATRIX[y+dy][x+dx]==-1 :\n",
    "                MATRIX[y][x]=count\n",
    "                count=count+1\n",
    "                x+=dx\n",
    "                y+=dy\n",
    "             \n",
    "             dx=-1\n",
    "             dy=0\n",
    "             \n",
    "        if dx==-1 and dy==0:\n",
    "             while x>0 and MATRIX[y+dy][x+dx]==-1 :\n",
    "                MATRIX[y][x]=count\n",
    "                count=count+1\n",
    "                x+=dx\n",
    "                y+=dy\n",
    "             \n",
    "             dx=0\n",
    "             dy=-1\n",
    "             \n",
    "        if dx==0 and dy==-1:\n",
    "             while y>0 and MATRIX[y+dy][x+dx]==-1 :\n",
    "                MATRIX[y][x]=count\n",
    "                count=count+1\n",
    "                x+=dx\n",
    "                y+=dy\n",
    "             \n",
    "             dx=1\n",
    "             dy=0\n",
    "    for i in range(len(MATRIX)):\n",
    "        for j in range(len(MATRIX[i])):\n",
    "            if MATRIX[i][j]==-1:\n",
    "                MATRIX[i][j]=ROW*COL-1\n",
    "                \n",
    "                \n",
    "    \n",
    "    return np.array(MATRIX)\n",
    "    \n",
    "\n",
    "    \n",
    "        \n",
    "        \n",
    "        \n",
    "    "
   ]
  },
  {
   "cell_type": "code",
   "execution_count": 28,
   "metadata": {},
   "outputs": [
    {
     "name": "stdout",
     "output_type": "stream",
     "text": [
      "10 10\n",
      "[[ 0  1  2  3  4  5  6  7  8  9]\n",
      " [35 36 37 38 39 40 41 42 43 10]\n",
      " [34 63 64 65 66 67 68 69 44 11]\n",
      " [33 62 83 84 85 86 87 70 45 12]\n",
      " [32 61 82 95 96 97 88 71 46 13]\n",
      " [31 60 81 94 99 98 89 72 47 14]\n",
      " [30 59 80 93 92 91 90 73 48 15]\n",
      " [29 58 79 78 77 76 75 74 49 16]\n",
      " [28 57 56 55 54 53 52 51 50 17]\n",
      " [27 26 25 24 23 22 21 20 19 18]]\n"
     ]
    }
   ],
   "source": [
    "print(spiral_array())"
   ]
  }
 ],
 "metadata": {
  "kernelspec": {
   "display_name": "Python 3",
   "language": "python",
   "name": "python3"
  },
  "language_info": {
   "codemirror_mode": {
    "name": "ipython",
    "version": 3
   },
   "file_extension": ".py",
   "mimetype": "text/x-python",
   "name": "python",
   "nbconvert_exporter": "python",
   "pygments_lexer": "ipython3",
   "version": "3.7.3"
  }
 },
 "nbformat": 4,
 "nbformat_minor": 2
}
