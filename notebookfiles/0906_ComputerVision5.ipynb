{
 "cells": [
  {
   "cell_type": "code",
   "execution_count": 4,
   "metadata": {},
   "outputs": [
    {
     "name": "stdout",
     "output_type": "stream",
     "text": [
      "두개 영역만을 추출하세요. 1 개의 영역을 추출하셨습니다\n",
      "두개 영역만을 추출하세요. 0 개의 영역을 추출하셨습니다\n",
      "두개 영역만을 추출하세요. 0 개의 영역을 추출하셨습니다\n",
      "두개 영역만을 추출하세요. 0 개의 영역을 추출하셨습니다\n",
      "두개 영역만을 추출하세요. 0 개의 영역을 추출하셨습니다\n",
      "두개 영역만을 추출하세요. 0 개의 영역을 추출하셨습니다\n",
      "두개 영역만을 추출하세요. 0 개의 영역을 추출하셨습니다\n",
      "두개 영역만을 추출하세요. 0 개의 영역을 추출하셨습니다\n",
      "두개 영역만을 추출하세요. 0 개의 영역을 추출하셨습니다\n",
      "두개 영역만을 추출하세요. 0 개의 영역을 추출하셨습니다\n",
      "두개 영역만을 추출하세요. 0 개의 영역을 추출하셨습니다\n",
      "두개 영역만을 추출하세요. 0 개의 영역을 추출하셨습니다\n",
      "r1= [184 108 174 310]\n",
      "r2= [105 230 237 213]\n"
     ]
    }
   ],
   "source": [
    "#-*- coding:utf-8 -*-\n",
    "import numpy as np\n",
    "import pandas as pd\n",
    "import cv2\n",
    "import os\n",
    "os.chdir('C:/Users/edu/Desktop/HyunSuk/files')\n",
    "src=cv2.imread('./data/lena.jpg')\n",
    "while True:\n",
    "    r=cv2.selectROIs('src',src)\n",
    "    if len(r)==2:\n",
    "        r1,r2=r\n",
    "        break\n",
    "    print(\"두개 영역만을 추출하세요. %s 개의 영역을 추출하셨습니다\"%len(r))\n",
    "print('r1=',r1)\n",
    "print('r2=',r2)\n",
    "img1=src[r1[1]:r1[1]+r1[3],r1[0]:r1[0]+r1[2]]\n",
    "img2=src[r2[1]:r2[1]+r2[3],r2[0]:r2[0]+r2[2]]\n",
    "img1=cv2.cvtColor(img1,cv2.COLOR_BGR2GRAY)\n",
    "_ ,img1 = cv2.threshold(img1, 150, 255, cv2.THRESH_BINARY)\n",
    "img1=cv2.merge([img1,img1,img1])\n",
    "img2=cv2.bitwise_not(img2)\n",
    "src[r1[1]:r1[1]+r1[3],r1[0]:r1[0]+r1[2]]=img1\n",
    "src[r2[1]:r2[1]+r2[3],r2[0]:r2[0]+r2[2]]=img2\n",
    "cv2.imshow('result',src)\n",
    "cv2.waitKey(0)\n",
    "cv2.destroyAllWindows()\n"
   ]
  },
  {
   "cell_type": "code",
   "execution_count": 5,
   "metadata": {},
   "outputs": [
    {
     "name": "stdout",
     "output_type": "stream",
     "text": [
      "hist=  [[9.]\n",
      " [3.]\n",
      " [2.]\n",
      " [2.]]\n",
      "backP =  [[9 9 9 9]\n",
      " [9 9 3 2]\n",
      " [2 9 9 3]\n",
      " [2 3 9 2]]\n"
     ]
    }
   ],
   "source": [
    "import cv2\n",
    "import numpy as np\n",
    "src=np.array([[0,0,0,0],[1,1,3,5],[6,1,1,3],[4,3,1,7]],dtype=np.uint8)\n",
    "hist=cv2.calcHist(images=[src],channels=[0],mask=None,histSize=[4],ranges=[0,8])\n",
    "print('hist= ',hist)\n",
    "backP=cv2.calcBackProject([src],[0],hist,[0,8],scale=1)\n",
    "print('backP = ',backP)"
   ]
  },
  {
   "cell_type": "code",
   "execution_count": 6,
   "metadata": {},
   "outputs": [
    {
     "name": "stdout",
     "output_type": "stream",
     "text": [
      "roi = (0, 0, 0, 0)\n",
      "T = -1.0\n"
     ]
    }
   ],
   "source": [
    "# 0511.py\n",
    "import cv2\n",
    "import numpy as np\n",
    "\n",
    "#1\n",
    "src = cv2.imread('./data/fruits.jpg')\n",
    "hsv = cv2.cvtColor(src, cv2.COLOR_BGR2HSV)\n",
    "\n",
    "h, s, v = cv2.split(hsv)\n",
    "\n",
    "#2\n",
    "roi = cv2.selectROI(src)\n",
    "print('roi =', roi)\n",
    "roi_h = h[roi[1]:roi[1]+roi[3], roi[0]:roi[0]+roi[2]]\n",
    "hist = cv2.calcHist([roi_h], [0], None,[64], [0, 256])\n",
    "backP= cv2.calcBackProject([h.astype(np.float32)], [0], hist,[0, 256],scale=1.0)\n",
    "##minVal, maxVal, minLoc, maxLoc = cv2.minMaxLoc(backP)\n",
    "##T = maxVal -1 # threshold\n",
    "\n",
    "#3\n",
    "hist = cv2.sort(hist, cv2.SORT_EVERY_COLUMN+cv2.SORT_DESCENDING)\n",
    "k = 1 \n",
    "T = hist[k][0] -1 # threshold\n",
    "print('T =', T)\n",
    "ret, dst = cv2.threshold(backP, T, 255, cv2.THRESH_BINARY)\n",
    "\n",
    "cv2.imshow('dst',  dst)\n",
    "cv2.waitKey()    \n",
    "cv2.destroyAllWindows()\n"
   ]
  },
  {
   "cell_type": "code",
   "execution_count": 45,
   "metadata": {},
   "outputs": [],
   "source": [
    "import cv2\n",
    "import numpy as np\n",
    "src=cv2.imread('./data/lena.jpg')\n",
    "\n",
    "dst1=cv2.boxFilter(src,ddepth=-1 , ksize=(11,11))\n",
    "dst2=cv2.boxFilter(src,ddepth=-1,ksize=(11,11))\n",
    "\n",
    "dst3=cv2.bilateralFilter(src,d=11,sigmaColor=20,sigmaSpace=20)\n",
    "dst4=cv2.bilateralFilter(src,d=11,sigmaColor=1,sigmaSpace=1)\n",
    "\n",
    "cv2.imshow('dst1',dst1)\n",
    "cv2.imshow('dst2',dst2)\n",
    "cv2.imshow('dst3',dst3)\n",
    "cv2.imshow('dst4',dst4)\n",
    "cv2.waitKey()\n",
    "cv2.destroyAllWindows()"
   ]
  },
  {
   "cell_type": "code",
   "execution_count": 48,
   "metadata": {},
   "outputs": [],
   "source": [
    "# 0602.py\n",
    "import cv2\n",
    "import numpy as np\n",
    "\n",
    "src = cv2.imread('./data/lena.jpg', cv2.IMREAD_GRAYSCALE)\n",
    "\n",
    "dst1= cv2.medianBlur(src, ksize = 7)\n",
    "dst2 = cv2.blur(src, ksize=(3, 3))\n",
    "dst3 = cv2.GaussianBlur(src, ksize=(7, 7), sigmaX=0.0)\n",
    "dst4 = cv2.GaussianBlur(src, ksize=(7, 7), sigmaX=10.0)\n",
    "\n",
    "cv2.imshow('dst1',  dst1)    \n",
    "cv2.imshow('dst2',  dst2)\n",
    "cv2.imshow('dst3',  dst3)\n",
    "cv2.imshow('dst4',  dst4)\n",
    "cv2.waitKey()    \n",
    "cv2.destroyAllWindows()\n"
   ]
  },
  {
   "cell_type": "code",
   "execution_count": 65,
   "metadata": {},
   "outputs": [
    {
     "name": "stdout",
     "output_type": "stream",
     "text": [
      "mag: 0.0 1053.8966064453125 (0, 0) (356, 328)\n"
     ]
    }
   ],
   "source": [
    "# 0603.py\n",
    "import cv2\n",
    "import numpy as np\n",
    "\n",
    "src = cv2.imread('./data/rect.jpg', cv2.IMREAD_GRAYSCALE)\n",
    "#1\n",
    "gx = cv2.Sobel(src, cv2.CV_32F, 1, 0, ksize = 3)\n",
    "gy = cv2.Sobel(src, cv2.CV_32F, 0, 1, ksize = 3)\n",
    "\n",
    "#2\n",
    "dstX = cv2.sqrt(np.abs(gx))\n",
    "dstX = cv2.normalize(dstX, None, 0, 255, cv2.NORM_MINMAX, dtype=cv2.CV_8U)\n",
    "\n",
    "#3\n",
    "dstY = cv2.sqrt(np.abs(gy))\n",
    "dstY = cv2.normalize(dstY, None, 0, 255, cv2.NORM_MINMAX, dtype=cv2.CV_8U)\n",
    "\n",
    "#4\n",
    "mag   = cv2.magnitude(gx, gy)\n",
    "minVal, maxVal, minLoc, maxLoc = cv2.minMaxLoc(mag)\n",
    "print('mag:', minVal, maxVal, minLoc, maxLoc)\n",
    "\n",
    "dstM = cv2.normalize(mag, None, 0, 255, cv2.NORM_MINMAX, dtype=cv2.CV_8U)\n",
    "\n",
    "cv2.imshow('src',  src)\n",
    "cv2.imshow('dstX',  dstX)    \n",
    "cv2.imshow('dstY',  dstY)\n",
    "cv2.imshow('dstM',  dstM)\n",
    "cv2.waitKey()\n",
    "cv2.destroyAllWindows()\n"
   ]
  },
  {
   "cell_type": "code",
   "execution_count": 22,
   "metadata": {
    "scrolled": true
   },
   "outputs": [
    {
     "name": "stdout",
     "output_type": "stream",
     "text": [
      "angle: 0.0 359.8861083984375 (0, 0) (357, 120)\n"
     ]
    },
    {
     "data": {
      "image/png": "[encoded data removed]",
      "text/plain": [
       "<Figure size 432x288 with 1 Axes>"
      ]
     },
     "metadata": {
      "needs_background": "light"
     },
     "output_type": "display_data"
    }
   ],
   "source": [
    "# 0604.py\n",
    "import numpy as np\n",
    "import cv2\n",
    "from   matplotlib import pyplot as plt\n",
    "\n",
    "src = cv2.imread('./data/rect.jpg', cv2.IMREAD_GRAYSCALE)\n",
    "##src = cv2.imread('./data/line.png', cv2.IMREAD_GRAYSCALE)\n",
    "cv2.imshow('src',  src)\n",
    "\n",
    "#1\n",
    "gx = cv2.Sobel(src, cv2.CV_32F, 1, 0, ksize = 3)\n",
    "gy = cv2.Sobel(src, cv2.CV_32F, 0, 1, ksize = 3)\n",
    "\n",
    "mag, angle = cv2.cartToPolar(gx, gy, angleInDegrees=True)\n",
    "minVal, maxVal, minLoc, maxLoc = cv2.minMaxLoc(angle)\n",
    "print('angle:', minVal, maxVal, minLoc, maxLoc)\n",
    "\n",
    "#2\n",
    "ret, edge = cv2.threshold(mag, 100, 255, cv2.THRESH_BINARY)\n",
    "edge = edge.astype(np.uint8)\n",
    "cv2.imshow('edge',  edge)\n",
    "\n",
    "#3\n",
    "width, height = mag.shape[:2]\n",
    "angleM = np.full((width,height,3), (255, 255, 255), dtype= np.uint8)\n",
    "for y in range(height):\n",
    "    for x in range(width):\n",
    "        if edge[y, x] != 0: # if mag[y, x] > 100: # edge\n",
    "            if angle[y, x] ==   0:\n",
    "                angleM[y, x] =  (0, 0, 255)   # red\n",
    "            elif angle[y, x] == 90:\n",
    "                 angleM[y, x] = (0, 255, 0)   # green\n",
    "            elif angle[y, x] ==180:\n",
    "                 angleM[y, x] = (255, 0, 0)   # blue                 \n",
    "            elif angle[y, x] ==270:\n",
    "                 angleM[y, x] = (0, 255, 255) # yellow\n",
    "            else:\n",
    "                angleM[y, x] =  (128, 128, 128) # gray                \n",
    "cv2.imshow('angleM',  angleM)\n",
    "cv2.waitKey()    \n",
    "cv2.destroyAllWindows()\n",
    "\n",
    "#4\n",
    "hist = cv2.calcHist(images=[angle], channels=[0], mask=edge,\n",
    "                    histSize=[360], ranges=[0, 360])\n",
    "\n",
    "hist = hist.flatten()\n",
    "##plt.title('hist: binX = np.arange(360)')\n",
    "plt.plot(hist, color='r')\n",
    "binX = np.arange(360)\n",
    "plt.bar(binX, hist, width=1, color='b')\n",
    "plt.show()\n"
   ]
  },
  {
   "cell_type": "code",
   "execution_count": 34,
   "metadata": {},
   "outputs": [
    {
     "name": "stdout",
     "output_type": "stream",
     "text": [
      "lap: -239.0 189.0 (404, 181) (221, 287)\n",
      "lap2: -35.0 30.0 (180, 435) (367, 449)\n"
     ]
    }
   ],
   "source": [
    "# 0605.py\n",
    "import cv2\n",
    "import numpy as np\n",
    "\n",
    "#1\n",
    "src = cv2.imread('./data/lena.jpg', cv2.IMREAD_GRAYSCALE)\n",
    "blur= cv2.GaussianBlur(src, ksize=(7, 7), sigmaX=0.0)\n",
    "cv2.imshow('src',  src)\n",
    "cv2.imshow('blur', blur)\n",
    "\n",
    "#2\n",
    "lap  = cv2.Laplacian(src, cv2.CV_32F)\n",
    "minVal, maxVal, minLoc, maxLoc = cv2.minMaxLoc(lap)\n",
    "print('lap:', minVal, maxVal, minLoc, maxLoc)\n",
    "dst = cv2.convertScaleAbs(lap)\n",
    "dst = cv2.normalize(dst, None, 0, 255, cv2.NORM_MINMAX)\n",
    "cv2.imshow('lap',  lap)\n",
    "cv2.imshow('dst',  dst)\n",
    "\n",
    "#3\n",
    "lap2 = cv2.Laplacian(blur, cv2.CV_32F)\n",
    "minVal, maxVal, minLoc, maxLoc = cv2.minMaxLoc(lap2)\n",
    "print('lap2:', minVal, maxVal, minLoc, maxLoc)\n",
    "dst2 = cv2.convertScaleAbs(lap2)\n",
    "dst2 = cv2.normalize(dst2, None, 0, 255, cv2.NORM_MINMAX)\n",
    "\n",
    "cv2.imshow('lap2',  lap2)\n",
    "cv2.imshow('dst2',  dst2)\n",
    "\n",
    "cv2.waitKey()    \n",
    "cv2.destroyAllWindows()\n"
   ]
  },
  {
   "cell_type": "code",
   "execution_count": null,
   "metadata": {},
   "outputs": [],
   "source": []
  },
  {
   "cell_type": "code",
   "execution_count": null,
   "metadata": {},
   "outputs": [],
   "source": []
  },
  {
   "cell_type": "code",
   "execution_count": null,
   "metadata": {},
   "outputs": [],
   "source": []
  }
 ],
 "metadata": {
  "kernelspec": {
   "display_name": "Python 3",
   "language": "python",
   "name": "python3"
  },
  "language_info": {
   "codemirror_mode": {
    "name": "ipython",
    "version": 3
   },
   "file_extension": ".py",
   "mimetype": "text/x-python",
   "name": "python",
   "nbconvert_exporter": "python",
   "pygments_lexer": "ipython3",
   "version": "3.7.2"
  }
 },
 "nbformat": 4,
 "nbformat_minor": 2
}
