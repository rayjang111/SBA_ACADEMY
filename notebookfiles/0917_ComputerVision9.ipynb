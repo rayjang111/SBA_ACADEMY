{
 "cells": [
  {
   "cell_type": "markdown",
   "metadata": {},
   "source": [
    "## MSER 특징 검출"
   ]
  },
  {
   "cell_type": "code",
   "execution_count": 26,
   "metadata": {},
   "outputs": [
    {
     "name": "stdout",
     "output_type": "stream",
     "text": [
      "len(kp)= 202\n"
     ]
    }
   ],
   "source": [
    "# 0903.py\n",
    "import numpy as np\n",
    "import cv2\n",
    " \n",
    "src = cv2.imread('./data/chessBoard.jpg')\n",
    "gray= cv2.cvtColor(src,cv2.COLOR_BGR2GRAY)\n",
    "\n",
    "#1\n",
    "mserF = cv2.MSER_create(10)  # cv2.MSER.create(10)\n",
    "kp= mserF.detect(gray)\n",
    "print('len(kp)=', len(kp))\n",
    "dst = cv2.drawKeypoints(gray, kp, None, color=(0,0,255))\n",
    "cv2.imshow('dst',  dst)\n",
    "\n",
    "#2\n",
    "dst2 = dst.copy()\n",
    "regions, bboxes = mserF.detectRegions(gray)\n",
    "hulls = [cv2.convexHull(p.reshape(-1, 1, 2)) for p in regions]\n",
    "cv2.polylines(dst2, hulls, True, (0, 255, 0))\n",
    "cv2.imshow('dst2',  dst2)\n",
    "\n",
    "#3\n",
    "dst3 = dst.copy()\n",
    "for i, pts in enumerate(regions):\n",
    "    box = cv2.fitEllipse(pts)\n",
    "    cv2.ellipse(dst3, box,  (255,0,0),1)\n",
    "    x, y, w, h = bboxes[i]\n",
    "    cv2.rectangle(dst3, (x, y), (x+w, y+h), (0,255,0))     \n",
    "cv2.imshow('dst3',  dst3)\n",
    "cv2.waitKey()\n",
    "cv2.destroyAllWindows()\n"
   ]
  },
  {
   "cell_type": "code",
   "execution_count": 8,
   "metadata": {},
   "outputs": [
    {
     "name": "stdout",
     "output_type": "stream",
     "text": [
      "len(kp)= 63\n",
      "len(filtered_kp)= 8\n",
      "des.shape= (8, 32)\n",
      "des= [[ 72  48  56  96  33  77  81  16 105 168  52   8 159  23  64  50 132 213\n",
      "  221   8 136  96 240   0 195 249  33  48  66 128  67  35]\n",
      " [104  48  56  96  33  77  81  16 105 168  52   8 159  23  64  50 132 212\n",
      "   93   8 136  96 240   0 195 217  33  48  66 128  66  35]\n",
      " [  2 141   2 158  20 131 174 230  22   0  90   2  96 234  48  64  89 106\n",
      "   19 193   2 184   8 255  40  38 138 128  20  10  48 136]\n",
      " [  2 141   2 158  20 131 174 230  22   0  88   2  32 234  48  64  89 106\n",
      "   19 193   2 184  10 255  40  38 138 136  20  10  48 136]\n",
      " [  2 141   2 158  20 131 174 230  22   1  88   2  32 234  48  64  89 106\n",
      "   19 193   2 184   8 255  40  38 138 128  20  10  48 136]\n",
      " [  2 141   2 158  20 131 174 230  22   0  90   2  96 234  48  64  89 106\n",
      "   19 193   2 184  10 255  40  38 138 128  20  10 176 136]\n",
      " [  2 140   2 154  84 131 170 238  22   1  88   2  96 232  56  64 121 106\n",
      "   19 129  34 186  10 255  40  38 155 136  21  10  48 136]\n",
      " [  2 141   2 158  20 131 170 230  22   0  88   2  32 234  48  64 121 106\n",
      "   19 129   2 186  10 255  32  38 138 136  21  10  48 136]]\n"
     ]
    }
   ],
   "source": [
    "# 0906.py\n",
    "import cv2\n",
    "import numpy as np\n",
    "#1\n",
    "def distance(f1, f2):    \n",
    "    x1, y1 = f1.pt\n",
    "    x2, y2 = f2.pt\n",
    "    return np.sqrt((x2 - x1)**2+ (y2 - y1)**2)\n",
    "\n",
    "def filteringByDistance(kp, distE=0.5):\n",
    "    size = len(kp)\n",
    "    mask = np.arange(1,size+1).astype(np.bool8) # all True   \n",
    "    for i, f1 in enumerate(kp):\n",
    "        if not mask[i]:\n",
    "            continue\n",
    "        else: # True\n",
    "            for j, f2 in enumerate(kp):\n",
    "                if i == j:\n",
    "                    continue\n",
    "                if distance(f1, f2)<distE:\n",
    "                    mask[j] = False\n",
    "    np_kp = np.array(kp)\n",
    "    return list(np_kp[mask])\n",
    "\n",
    "#2\n",
    "src = cv2.imread('./data/cornerTest.jpg')\n",
    "##src = cv2.imread('./data/chessBoard.jpg')\n",
    "gray= cv2.cvtColor(src,cv2.COLOR_BGR2GRAY)\n",
    "gray = cv2.GaussianBlur(gray, (5, 5), 0.0)\n",
    "\n",
    "##orbF = cv2.ORB_create()           # HARRIS_SCORE\n",
    "orbF = cv2.ORB_create(scoreType=1)  # FAST_SCORE\n",
    "kp= orbF.detect(gray)\n",
    "print('len(kp)=', len(kp))\n",
    "dst = cv2.drawKeypoints(gray, kp, None, color=(0,0,255))   \n",
    "cv2.imshow('dst',  dst)\n",
    "\n",
    "#3\n",
    "kp = sorted(kp, key=lambda f: f.response, reverse=True)\n",
    "filtered_kp = list(filter(lambda f: f.response>50, kp))\n",
    "filtered_kp = filteringByDistance(kp, 10)\n",
    "print('len(filtered_kp)=', len(filtered_kp))\n",
    "\n",
    "kp, des = orbF.compute(gray, filtered_kp)\n",
    "print('des.shape=', des.shape)\n",
    "print('des=', des)\n",
    "\n",
    "#4\n",
    "dst2 = cv2.drawKeypoints(gray, filtered_kp, None, color=(0,0,255))  \n",
    "for f in filtered_kp:\n",
    "    x, y = f.pt\n",
    "    size = f.size\n",
    "    rect = ((x, y), (size, size), f.angle)\n",
    "    box = cv2.boxPoints(rect).astype(np.int32)\n",
    "    cv2.polylines(dst2, [box], True, (0,255,0), 2)\n",
    "    cv2.circle(dst2, (round(x), round(y)), round(f.size/2), (255,0,0), 2)\n",
    "cv2.imshow('dst2',  dst2)\n",
    "cv2.waitKey()\n",
    "cv2.destroyAllWindows()\n"
   ]
  },
  {
   "cell_type": "code",
   "execution_count": 28,
   "metadata": {},
   "outputs": [
    {
     "name": "stdout",
     "output_type": "stream",
     "text": [
      "len(loc1)= 0\n",
      "len(loc2)= 3\n",
      "len(loc3)= 6\n",
      "weights3= [[3.82788096]\n",
      " [2.49923779]\n",
      " [2.4061097 ]\n",
      " [1.13816947]\n",
      " [0.64257275]\n",
      " [0.37325622]]\n"
     ]
    }
   ],
   "source": [
    "# 0918.py\n",
    "import cv2\n",
    "from   matplotlib import pyplot as plt\n",
    "\n",
    "#1\n",
    "src = cv2.imread('./data/people.png')\n",
    "hog = cv2.HOGDescriptor()\n",
    "hog.setSVMDetector(cv2.HOGDescriptor_getDefaultPeopleDetector())\n",
    "\n",
    "#2\n",
    "loc1, weights1 = hog.detect(src)\n",
    "print('len(loc1)=',len(loc1))\n",
    "dst1 = src.copy()\n",
    "w, h = hog.winSize\n",
    "for pt in loc1:\n",
    "    x, y = pt\n",
    "    cv2.rectangle(dst, (x, y), (x+w, y+h), (255,0,0),2)\n",
    "cv2.imshow('dst1',  dst1)\n",
    "\n",
    "#2\n",
    "dst2 = src.copy()\n",
    "loc2, weights2 = hog.detectMultiScale(src)\n",
    "print('len(loc2)=',len(loc2))\n",
    "for rect in loc2:\n",
    "    x, y, w, h = rect\n",
    "    cv2.rectangle(dst2, (x, y), (x+w, y+h), (0,255,0),2)\n",
    "cv2.imshow('dst2',  dst2)\n",
    "\n",
    "#3\n",
    "dst3 = src.copy()\n",
    "loc3, weights3 = hog.detectMultiScale(src, winStride=(1,1), padding=(8,8))\n",
    "print('len(loc3)=',len(loc3))\n",
    "print('weights3=', weights3)\n",
    "for i, rect in enumerate(loc3):\n",
    "    x, y, w, h = rect\n",
    "    if weights3[i]>0.5:\n",
    "        cv2.rectangle(dst3, (x, y), (x+w, y+h), (0,0,255),2)\n",
    "    else:\n",
    "        cv2.rectangle(dst3, (x, y), (x+w, y+h), (255,0,0),2)\n",
    "    \n",
    "cv2.imshow('dst3',  dst3)\n",
    "cv2.waitKey()\n",
    "cv2.destroyAllWindows()\n"
   ]
  },
  {
   "cell_type": "code",
   "execution_count": 18,
   "metadata": {},
   "outputs": [
    {
     "data": {
      "text/plain": [
       "<function sorted(iterable, /, *, key=None, reverse=False)>"
      ]
     },
     "execution_count": 18,
     "metadata": {},
     "output_type": "execute_result"
    }
   ],
   "source": [
    "sorted"
   ]
  },
  {
   "cell_type": "code",
   "execution_count": null,
   "metadata": {},
   "outputs": [],
   "source": []
  },
  {
   "cell_type": "code",
   "execution_count": null,
   "metadata": {},
   "outputs": [],
   "source": []
  },
  {
   "cell_type": "code",
   "execution_count": null,
   "metadata": {},
   "outputs": [],
   "source": []
  },
  {
   "cell_type": "code",
   "execution_count": null,
   "metadata": {},
   "outputs": [],
   "source": []
  },
  {
   "cell_type": "code",
   "execution_count": null,
   "metadata": {},
   "outputs": [],
   "source": []
  },
  {
   "cell_type": "code",
   "execution_count": null,
   "metadata": {},
   "outputs": [],
   "source": []
  },
  {
   "cell_type": "code",
   "execution_count": null,
   "metadata": {},
   "outputs": [],
   "source": []
  },
  {
   "cell_type": "code",
   "execution_count": null,
   "metadata": {},
   "outputs": [],
   "source": []
  },
  {
   "cell_type": "code",
   "execution_count": null,
   "metadata": {},
   "outputs": [],
   "source": []
  }
 ],
 "metadata": {
  "kernelspec": {
   "display_name": "Python 3",
   "language": "python",
   "name": "python3"
  },
  "language_info": {
   "codemirror_mode": {
    "name": "ipython",
    "version": 3
   },
   "file_extension": ".py",
   "mimetype": "text/x-python",
   "name": "python",
   "nbconvert_exporter": "python",
   "pygments_lexer": "ipython3",
   "version": "3.7.2"
  }
 },
 "nbformat": 4,
 "nbformat_minor": 2
}
