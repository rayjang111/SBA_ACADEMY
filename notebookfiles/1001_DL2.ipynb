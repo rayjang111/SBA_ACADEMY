{
 "cells": [
  {
   "cell_type": "code",
   "execution_count": 44,
   "metadata": {},
   "outputs": [
    {
     "data": {
      "text/plain": [
       "matrix([[0.],\n",
       "        [1.]])"
      ]
     },
     "execution_count": 44,
     "metadata": {},
     "output_type": "execute_result"
    }
   ],
   "source": [
    "from numpy import *\n",
    "def standRegres(xArr,yArr):\n",
    "    xMat=mat(xArr); yMat=mat(yArr).T\n",
    "    xTx=xMat.T*xMat\n",
    "    if linalg.det(xTx)==0.0:\n",
    "        print(\"This matrix is singular, cannot do inverse\")\n",
    "        return\n",
    "    ws=xTx.I*(xMat.T*yMat)\n",
    "    return ws\n",
    "xArr=[[1,1],[1,2],[1,3],[1,4]]\n",
    "yArr=[1,2,3,4]\n",
    "standRegres(xArr,yArr)"
   ]
  },
  {
   "cell_type": "code",
   "execution_count": 42,
   "metadata": {},
   "outputs": [
    {
     "name": "stdout",
     "output_type": "stream",
     "text": [
      "OLS를 통한 추정값 [[7.]\n",
      " [2.]]\n",
      "Gradient descent algorithm을 통한 추정값: (6.975539961271075, 2.00773977154168)\n"
     ]
    }
   ],
   "source": [
    "def standRegres(xArr,yArr):\n",
    "    xMat=mat(xArr); yMat=mat(yArr).T\n",
    "    xTx=xMat.T*xMat\n",
    "    if linalg.det(xTx)==0.0:\n",
    "        print(\"This matrix is singular, cannot do inverse\")\n",
    "        return\n",
    "    ws=xTx.I*(xMat.T*yMat)\n",
    "    return ws\n",
    "def gradient_Regres(xArr,yArr,learning_rate=0.01):\n",
    "    a=random.gauss(0,1)\n",
    "    b=random.gauss(0,1)\n",
    "    while True:\n",
    "        for i in range(len(yArr)):\n",
    "            data=xArr[i]\n",
    "            y_hat=data[0]*b+data[1]*a\n",
    "            y=yArr[i]\n",
    "            loss=(y-y_hat)*(y-y_hat)\n",
    "            gradient_b=2*(y-y_hat)*(-data[0])\n",
    "            gradient_a=2*(y-y_hat)*(-data[1])\n",
    "            a-=gradient_a*learning_rate\n",
    "            b-=gradient_b*learning_rate\n",
    "        if loss<0.0001:\n",
    "            return b,a\n",
    "            break\n",
    "xArr=[[1,0],[1,1],[1,2],[1,3],[1,4]] ###y=7+2x 식에서 샘플을 가져옴\n",
    "yArr=[7,9,11,13,15]\n",
    "print('OLS를 통한 추정값',standRegres(xArr,yArr))\n",
    "print(\"Gradient descent algorithm을 통한 추정값:\",gradient_Regres(xArr,yArr))"
   ]
  },
  {
   "cell_type": "code",
   "execution_count": 36,
   "metadata": {},
   "outputs": [],
   "source": [
    "import random"
   ]
  },
  {
   "cell_type": "code",
   "execution_count": 10,
   "metadata": {},
   "outputs": [
    {
     "data": {
      "text/plain": [
       "0.2845015601552076"
      ]
     },
     "execution_count": 10,
     "metadata": {},
     "output_type": "execute_result"
    }
   ],
   "source": [
    "random.gauss(0,1)"
   ]
  },
  {
   "cell_type": "code",
   "execution_count": null,
   "metadata": {},
   "outputs": [],
   "source": [
    "while True:\n",
    "    answer=random.randint(0,9999)\n",
    "    answer=list(str(answer))\n",
    "    test={}\n",
    "    for i in answer:\n",
    "        if i not in test:\n",
    "            test[i]=1\n",
    "        else:\n",
    "            test[i]+=1\n",
    "    if len(test.keys())==4: ####같은 값이 중복되지않는 4자리수 생성\n",
    "        break"
   ]
  },
  {
   "cell_type": "code",
   "execution_count": null,
   "metadata": {},
   "outputs": [],
   "source": []
  },
  {
   "cell_type": "code",
   "execution_count": null,
   "metadata": {},
   "outputs": [],
   "source": []
  },
  {
   "cell_type": "code",
   "execution_count": null,
   "metadata": {},
   "outputs": [],
   "source": []
  }
 ],
 "metadata": {
  "kernelspec": {
   "display_name": "Tensorflow",
   "language": "python",
   "name": "tensorflow"
  },
  "language_info": {
   "codemirror_mode": {
    "name": "ipython",
    "version": 3
   },
   "file_extension": ".py",
   "mimetype": "text/x-python",
   "name": "python",
   "nbconvert_exporter": "python",
   "pygments_lexer": "ipython3",
   "version": "3.7.2"
  }
 },
 "nbformat": 4,
 "nbformat_minor": 2
}
